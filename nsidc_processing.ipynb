{
 "cells": [
  {
   "cell_type": "code",
   "execution_count": 1,
   "metadata": {},
   "outputs": [],
   "source": [
    "%load_ext autoreload\n",
    "%autoreload 2"
   ]
  },
  {
   "cell_type": "code",
   "execution_count": 158,
   "metadata": {},
   "outputs": [],
   "source": [
    "import pandas as pd\n",
    "import numpy as np\n",
    "from nsidc_processor import NSIDCProcessor"
   ]
  },
  {
   "cell_type": "code",
   "execution_count": 159,
   "metadata": {},
   "outputs": [],
   "source": [
    "north_geotiff_index = pd.read_csv('daily_northern_geotiff_index.csv', index_col = 0)\n",
    "north_geotiff_index.date = pd.to_datetime(north_geotiff_index.date, infer_datetime_format = True)"
   ]
  },
  {
   "cell_type": "code",
   "execution_count": 160,
   "metadata": {},
   "outputs": [],
   "source": [
    "north_geotiff_index_conc = north_geotiff_index.loc[north_geotiff_index.image_type == 'concentration']\n",
    "north_geotiff_index_ext = north_geotiff_index.loc[north_geotiff_index.image_type == 'extent']"
   ]
  },
  {
   "cell_type": "code",
   "execution_count": 161,
   "metadata": {},
   "outputs": [],
   "source": [
    "north_geotiff_index_conc = north_geotiff_index_conc.set_index('date')\n",
    "north_geotiff_index_ext = north_geotiff_index_ext.set_index('date')"
   ]
  },
  {
   "cell_type": "code",
   "execution_count": 162,
   "metadata": {},
   "outputs": [
    {
     "data": {
      "text/html": [
       "<div>\n",
       "<style scoped>\n",
       "    .dataframe tbody tr th:only-of-type {\n",
       "        vertical-align: middle;\n",
       "    }\n",
       "\n",
       "    .dataframe tbody tr th {\n",
       "        vertical-align: top;\n",
       "    }\n",
       "\n",
       "    .dataframe thead th {\n",
       "        text-align: right;\n",
       "    }\n",
       "</style>\n",
       "<table border=\"1\" class=\"dataframe\">\n",
       "  <thead>\n",
       "    <tr style=\"text-align: right;\">\n",
       "      <th></th>\n",
       "      <th>file_name</th>\n",
       "      <th>hemisphere</th>\n",
       "      <th>image_type</th>\n",
       "    </tr>\n",
       "    <tr>\n",
       "      <th>date</th>\n",
       "      <th></th>\n",
       "      <th></th>\n",
       "      <th></th>\n",
       "    </tr>\n",
       "  </thead>\n",
       "  <tbody>\n",
       "    <tr>\n",
       "      <th>1978-10-26</th>\n",
       "      <td>daily/geotiff/1978/N_19781026_concentration_v3...</td>\n",
       "      <td>north</td>\n",
       "      <td>concentration</td>\n",
       "    </tr>\n",
       "    <tr>\n",
       "      <th>1978-10-28</th>\n",
       "      <td>daily/geotiff/1978/N_19781028_concentration_v3...</td>\n",
       "      <td>north</td>\n",
       "      <td>concentration</td>\n",
       "    </tr>\n",
       "    <tr>\n",
       "      <th>1978-10-30</th>\n",
       "      <td>daily/geotiff/1978/N_19781030_concentration_v3...</td>\n",
       "      <td>north</td>\n",
       "      <td>concentration</td>\n",
       "    </tr>\n",
       "    <tr>\n",
       "      <th>1978-11-01</th>\n",
       "      <td>daily/geotiff/1978/N_19781101_concentration_v3...</td>\n",
       "      <td>north</td>\n",
       "      <td>concentration</td>\n",
       "    </tr>\n",
       "    <tr>\n",
       "      <th>1978-11-03</th>\n",
       "      <td>daily/geotiff/1978/N_19781103_concentration_v3...</td>\n",
       "      <td>north</td>\n",
       "      <td>concentration</td>\n",
       "    </tr>\n",
       "    <tr>\n",
       "      <th>...</th>\n",
       "      <td>...</td>\n",
       "      <td>...</td>\n",
       "      <td>...</td>\n",
       "    </tr>\n",
       "    <tr>\n",
       "      <th>2019-10-30</th>\n",
       "      <td>daily/geotiff/2019/N_20191030_concentration_v3...</td>\n",
       "      <td>north</td>\n",
       "      <td>concentration</td>\n",
       "    </tr>\n",
       "    <tr>\n",
       "      <th>2019-10-31</th>\n",
       "      <td>daily/geotiff/2019/N_20191031_concentration_v3...</td>\n",
       "      <td>north</td>\n",
       "      <td>concentration</td>\n",
       "    </tr>\n",
       "    <tr>\n",
       "      <th>2019-11-01</th>\n",
       "      <td>daily/geotiff/2019/N_20191101_concentration_v3...</td>\n",
       "      <td>north</td>\n",
       "      <td>concentration</td>\n",
       "    </tr>\n",
       "    <tr>\n",
       "      <th>2019-11-02</th>\n",
       "      <td>daily/geotiff/2019/N_20191102_concentration_v3...</td>\n",
       "      <td>north</td>\n",
       "      <td>concentration</td>\n",
       "    </tr>\n",
       "    <tr>\n",
       "      <th>2019-11-03</th>\n",
       "      <td>daily/geotiff/2019/N_20191103_concentration_v3...</td>\n",
       "      <td>north</td>\n",
       "      <td>concentration</td>\n",
       "    </tr>\n",
       "  </tbody>\n",
       "</table>\n",
       "<p>13173 rows × 3 columns</p>\n",
       "</div>"
      ],
      "text/plain": [
       "                                                    file_name hemisphere  \\\n",
       "date                                                                       \n",
       "1978-10-26  daily/geotiff/1978/N_19781026_concentration_v3...      north   \n",
       "1978-10-28  daily/geotiff/1978/N_19781028_concentration_v3...      north   \n",
       "1978-10-30  daily/geotiff/1978/N_19781030_concentration_v3...      north   \n",
       "1978-11-01  daily/geotiff/1978/N_19781101_concentration_v3...      north   \n",
       "1978-11-03  daily/geotiff/1978/N_19781103_concentration_v3...      north   \n",
       "...                                                       ...        ...   \n",
       "2019-10-30  daily/geotiff/2019/N_20191030_concentration_v3...      north   \n",
       "2019-10-31  daily/geotiff/2019/N_20191031_concentration_v3...      north   \n",
       "2019-11-01  daily/geotiff/2019/N_20191101_concentration_v3...      north   \n",
       "2019-11-02  daily/geotiff/2019/N_20191102_concentration_v3...      north   \n",
       "2019-11-03  daily/geotiff/2019/N_20191103_concentration_v3...      north   \n",
       "\n",
       "               image_type  \n",
       "date                       \n",
       "1978-10-26  concentration  \n",
       "1978-10-28  concentration  \n",
       "1978-10-30  concentration  \n",
       "1978-11-01  concentration  \n",
       "1978-11-03  concentration  \n",
       "...                   ...  \n",
       "2019-10-30  concentration  \n",
       "2019-10-31  concentration  \n",
       "2019-11-01  concentration  \n",
       "2019-11-02  concentration  \n",
       "2019-11-03  concentration  \n",
       "\n",
       "[13173 rows x 3 columns]"
      ]
     },
     "execution_count": 162,
     "metadata": {},
     "output_type": "execute_result"
    }
   ],
   "source": [
    "north_geotiff_index_conc"
   ]
  },
  {
   "cell_type": "code",
   "execution_count": 163,
   "metadata": {},
   "outputs": [],
   "source": [
    "north_conc_processor = NSIDCProcessor('raw_images/', north_geotiff_index_conc)\n",
    "north_ext_processor = NSIDCProcessor('raw_images/', north_geotiff_index_ext)"
   ]
  },
  {
   "cell_type": "code",
   "execution_count": 164,
   "metadata": {},
   "outputs": [],
   "source": [
    "oct281978_conc = north_conc_processor.load_by_date('1978-10-28')\n",
    "oct281978_ext = north_ext_processor.load_by_date('1978-10-28')"
   ]
  },
  {
   "cell_type": "code",
   "execution_count": 171,
   "metadata": {},
   "outputs": [
    {
     "data": {
      "image/png": "[encoded data removed]",
      "text/plain": [
       "<Figure size 432x288 with 1 Axes>"
      ]
     },
     "execution_count": 171,
     "metadata": {},
     "output_type": "execute_result"
    }
   ],
   "source": [
    "north_conc_processor.show_by_date('2000-10-27')"
   ]
  },
  {
   "cell_type": "code",
   "execution_count": 172,
   "metadata": {},
   "outputs": [
    {
     "data": {
      "image/png": "[encoded data removed]",
      "text/plain": [
       "<Figure size 432x288 with 1 Axes>"
      ]
     },
     "execution_count": 172,
     "metadata": {},
     "output_type": "execute_result"
    }
   ],
   "source": [
    "north_conc_processor.show_by_date('2018-06-01')"
   ]
  },
  {
   "cell_type": "code",
   "execution_count": null,
   "metadata": {},
   "outputs": [],
   "source": []
  }
 ],
 "metadata": {
  "kernelspec": {
   "display_name": "Python 3",
   "language": "python",
   "name": "python3"
  },
  "language_info": {
   "codemirror_mode": {
    "name": "ipython",
    "version": 3
   },
   "file_extension": ".py",
   "mimetype": "text/x-python",
   "name": "python",
   "nbconvert_exporter": "python",
   "pygments_lexer": "ipython3",
   "version": "3.6.7"
  }
 },
 "nbformat": 4,
 "nbformat_minor": 4
}
