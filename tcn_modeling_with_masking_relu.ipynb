{
 "cells": [
  {
   "cell_type": "markdown",
   "metadata": {},
   "source": [
    "# TCN Modeling - With Masking\n",
    "----\n",
    "This notebook handles attempting various configurations of TCN modeling with options to include other time-distributed pre and post-processing layers. First, we will need to import the various libraries and classes that we have created/chosen to use. Importantly, in this notebook we want to test the use of the newly implemented masking functionality, which separates out those portions of the images which correspond to fixed values so that the modeling resources can be devoted to focus on sea ice regions."
   ]
  },
  {
   "cell_type": "code",
   "execution_count": 1,
   "metadata": {},
   "outputs": [],
   "source": [
    "%load_ext autoreload\n",
    "%autoreload 2\n",
    "import warnings\n",
    "warnings.filterwarnings('ignore')"
   ]
  },
  {
   "cell_type": "code",
   "execution_count": 2,
   "metadata": {},
   "outputs": [
    {
     "name": "stderr",
     "output_type": "stream",
     "text": [
      "Using TensorFlow backend.\n"
     ]
    }
   ],
   "source": [
    "import pandas as pd\n",
    "import numpy as np\n",
    "from geotiff_processor import GeotiffProcessor\n",
    "from ice_modeler import IceModeler"
   ]
  },
  {
   "cell_type": "markdown",
   "metadata": {},
   "source": [
    "## Importing the Image Index for the Northern Hemisphere's GeoTiff Files"
   ]
  },
  {
   "cell_type": "markdown",
   "metadata": {},
   "source": [
    "Here we use Pandas to do a bit of formatting of the dataframe so that it can be interpreted by our modeling class. Notably we need to have a date index for time-series analysis."
   ]
  },
  {
   "cell_type": "code",
   "execution_count": 3,
   "metadata": {},
   "outputs": [],
   "source": [
    "geotiff_index = pd.read_csv('daily_northern_geotiff_index.csv')\n",
    "geotiff_index.date = pd.to_datetime(geotiff_index.date)\n",
    "geotiff_index = geotiff_index.set_index('date')"
   ]
  },
  {
   "cell_type": "markdown",
   "metadata": {},
   "source": [
    "Since we initially downloaded extent type files as well as concentration type files, let's subset so that we only consider concentration images for this analysis."
   ]
  },
  {
   "cell_type": "code",
   "execution_count": 4,
   "metadata": {},
   "outputs": [],
   "source": [
    "geotiff_concentration = geotiff_index.loc[geotiff_index.image_type == 'concentration']"
   ]
  },
  {
   "cell_type": "markdown",
   "metadata": {},
   "source": [
    "And for testing purposes, we will choose only a small portion of images, so that we can minimize the amount of time that is spent training the model for this initial investigation."
   ]
  },
  {
   "cell_type": "code",
   "execution_count": 5,
   "metadata": {},
   "outputs": [],
   "source": [
    "conc_index = geotiff_concentration.loc['2010-01-01':'2018-12-31',:]"
   ]
  },
  {
   "cell_type": "markdown",
   "metadata": {},
   "source": [
    "Next we need to create an appropriate Geotiff Processor object with the new dataframe as the index. Most importantly, this processor will handle our annual sampling process for training of the model."
   ]
  },
  {
   "cell_type": "code",
   "execution_count": 6,
   "metadata": {},
   "outputs": [],
   "source": [
    "conc_processor = GeotiffProcessor('raw_images/', image_index=conc_index)"
   ]
  },
  {
   "cell_type": "markdown",
   "metadata": {},
   "source": [
    "First, however, we need to impute any missing dates that may exist in the dataframes index with the appropriate method. This is more important for the earlier years present in the database of images, as in the earlier days images were only captured every two days."
   ]
  },
  {
   "cell_type": "code",
   "execution_count": 7,
   "metadata": {},
   "outputs": [
    {
     "data": {
      "text/html": [
       "<div>\n",
       "<style scoped>\n",
       "    .dataframe tbody tr th:only-of-type {\n",
       "        vertical-align: middle;\n",
       "    }\n",
       "\n",
       "    .dataframe tbody tr th {\n",
       "        vertical-align: top;\n",
       "    }\n",
       "\n",
       "    .dataframe thead th {\n",
       "        text-align: right;\n",
       "    }\n",
       "</style>\n",
       "<table border=\"1\" class=\"dataframe\">\n",
       "  <thead>\n",
       "    <tr style=\"text-align: right;\">\n",
       "      <th></th>\n",
       "      <th>Unnamed: 0</th>\n",
       "      <th>file_name</th>\n",
       "      <th>hemisphere</th>\n",
       "      <th>image_type</th>\n",
       "    </tr>\n",
       "    <tr>\n",
       "      <th>date</th>\n",
       "      <th></th>\n",
       "      <th></th>\n",
       "      <th></th>\n",
       "      <th></th>\n",
       "    </tr>\n",
       "  </thead>\n",
       "  <tbody>\n",
       "    <tr>\n",
       "      <th>2010-01-01</th>\n",
       "      <td>N_20100101_concentration_v3.0</td>\n",
       "      <td>daily/geotiff/2010/N_20100101_concentration_v3...</td>\n",
       "      <td>north</td>\n",
       "      <td>concentration</td>\n",
       "    </tr>\n",
       "    <tr>\n",
       "      <th>2010-01-02</th>\n",
       "      <td>N_20100102_concentration_v3.0</td>\n",
       "      <td>daily/geotiff/2010/N_20100102_concentration_v3...</td>\n",
       "      <td>north</td>\n",
       "      <td>concentration</td>\n",
       "    </tr>\n",
       "    <tr>\n",
       "      <th>2010-01-03</th>\n",
       "      <td>N_20100103_concentration_v3.0</td>\n",
       "      <td>daily/geotiff/2010/N_20100103_concentration_v3...</td>\n",
       "      <td>north</td>\n",
       "      <td>concentration</td>\n",
       "    </tr>\n",
       "    <tr>\n",
       "      <th>2010-01-04</th>\n",
       "      <td>N_20100104_concentration_v3.0</td>\n",
       "      <td>daily/geotiff/2010/N_20100104_concentration_v3...</td>\n",
       "      <td>north</td>\n",
       "      <td>concentration</td>\n",
       "    </tr>\n",
       "    <tr>\n",
       "      <th>2010-01-05</th>\n",
       "      <td>N_20100105_concentration_v3.0</td>\n",
       "      <td>daily/geotiff/2010/N_20100105_concentration_v3...</td>\n",
       "      <td>north</td>\n",
       "      <td>concentration</td>\n",
       "    </tr>\n",
       "    <tr>\n",
       "      <th>...</th>\n",
       "      <td>...</td>\n",
       "      <td>...</td>\n",
       "      <td>...</td>\n",
       "      <td>...</td>\n",
       "    </tr>\n",
       "    <tr>\n",
       "      <th>2018-12-27</th>\n",
       "      <td>N_20181227_concentration_v3.0</td>\n",
       "      <td>daily/geotiff/2018/N_20181227_concentration_v3...</td>\n",
       "      <td>north</td>\n",
       "      <td>concentration</td>\n",
       "    </tr>\n",
       "    <tr>\n",
       "      <th>2018-12-28</th>\n",
       "      <td>N_20181228_concentration_v3.0</td>\n",
       "      <td>daily/geotiff/2018/N_20181228_concentration_v3...</td>\n",
       "      <td>north</td>\n",
       "      <td>concentration</td>\n",
       "    </tr>\n",
       "    <tr>\n",
       "      <th>2018-12-29</th>\n",
       "      <td>N_20181229_concentration_v3.0</td>\n",
       "      <td>daily/geotiff/2018/N_20181229_concentration_v3...</td>\n",
       "      <td>north</td>\n",
       "      <td>concentration</td>\n",
       "    </tr>\n",
       "    <tr>\n",
       "      <th>2018-12-30</th>\n",
       "      <td>N_20181230_concentration_v3.0</td>\n",
       "      <td>daily/geotiff/2018/N_20181230_concentration_v3...</td>\n",
       "      <td>north</td>\n",
       "      <td>concentration</td>\n",
       "    </tr>\n",
       "    <tr>\n",
       "      <th>2018-12-31</th>\n",
       "      <td>N_20181231_concentration_v3.0</td>\n",
       "      <td>daily/geotiff/2018/N_20181231_concentration_v3...</td>\n",
       "      <td>north</td>\n",
       "      <td>concentration</td>\n",
       "    </tr>\n",
       "  </tbody>\n",
       "</table>\n",
       "<p>3287 rows × 4 columns</p>\n",
       "</div>"
      ],
      "text/plain": [
       "                               Unnamed: 0  \\\n",
       "date                                        \n",
       "2010-01-01  N_20100101_concentration_v3.0   \n",
       "2010-01-02  N_20100102_concentration_v3.0   \n",
       "2010-01-03  N_20100103_concentration_v3.0   \n",
       "2010-01-04  N_20100104_concentration_v3.0   \n",
       "2010-01-05  N_20100105_concentration_v3.0   \n",
       "...                                   ...   \n",
       "2018-12-27  N_20181227_concentration_v3.0   \n",
       "2018-12-28  N_20181228_concentration_v3.0   \n",
       "2018-12-29  N_20181229_concentration_v3.0   \n",
       "2018-12-30  N_20181230_concentration_v3.0   \n",
       "2018-12-31  N_20181231_concentration_v3.0   \n",
       "\n",
       "                                                    file_name hemisphere  \\\n",
       "date                                                                       \n",
       "2010-01-01  daily/geotiff/2010/N_20100101_concentration_v3...      north   \n",
       "2010-01-02  daily/geotiff/2010/N_20100102_concentration_v3...      north   \n",
       "2010-01-03  daily/geotiff/2010/N_20100103_concentration_v3...      north   \n",
       "2010-01-04  daily/geotiff/2010/N_20100104_concentration_v3...      north   \n",
       "2010-01-05  daily/geotiff/2010/N_20100105_concentration_v3...      north   \n",
       "...                                                       ...        ...   \n",
       "2018-12-27  daily/geotiff/2018/N_20181227_concentration_v3...      north   \n",
       "2018-12-28  daily/geotiff/2018/N_20181228_concentration_v3...      north   \n",
       "2018-12-29  daily/geotiff/2018/N_20181229_concentration_v3...      north   \n",
       "2018-12-30  daily/geotiff/2018/N_20181230_concentration_v3...      north   \n",
       "2018-12-31  daily/geotiff/2018/N_20181231_concentration_v3...      north   \n",
       "\n",
       "               image_type  \n",
       "date                       \n",
       "2010-01-01  concentration  \n",
       "2010-01-02  concentration  \n",
       "2010-01-03  concentration  \n",
       "2010-01-04  concentration  \n",
       "2010-01-05  concentration  \n",
       "...                   ...  \n",
       "2018-12-27  concentration  \n",
       "2018-12-28  concentration  \n",
       "2018-12-29  concentration  \n",
       "2018-12-30  concentration  \n",
       "2018-12-31  concentration  \n",
       "\n",
       "[3287 rows x 4 columns]"
      ]
     },
     "execution_count": 7,
     "metadata": {},
     "output_type": "execute_result"
    }
   ],
   "source": [
    "conc_index = conc_processor.impute_missing_index_dates(set_this_index = True)\n",
    "conc_index"
   ]
  },
  {
   "cell_type": "markdown",
   "metadata": {},
   "source": [
    "We are now ready to load in the default colormaps so that when can appropriately color our predicted images."
   ]
  },
  {
   "cell_type": "code",
   "execution_count": 8,
   "metadata": {},
   "outputs": [],
   "source": [
    "conc_processor.load_default_colormaps(\n",
    "    extent='default_extent_colormap.pkl',\n",
    "    concentration='default_concentration_colormap.pkl')\n",
    "# conc_last_ten = conc_processor.impute_missing_index_dates(set_this_index=True)"
   ]
  },
  {
   "cell_type": "markdown",
   "metadata": {},
   "source": [
    "## Modeling\n",
    "Now that the processor and appropriate image index have been prepared, we can instantiate a new IceModeler class and begin to train the model using a train-test split."
   ]
  },
  {
   "cell_type": "code",
   "execution_count": 9,
   "metadata": {},
   "outputs": [],
   "source": [
    "ice_modeler = IceModeler()"
   ]
  },
  {
   "cell_type": "markdown",
   "metadata": {},
   "source": [
    "Here, we perform the annual sampling process with the appropriate method. We will also normalize these images for the purposes of training our model."
   ]
  },
  {
   "cell_type": "code",
   "execution_count": 10,
   "metadata": {},
   "outputs": [],
   "source": [
    "conc_images, years = conc_processor.process_images_channels_first_yearly_sample()"
   ]
  },
  {
   "cell_type": "markdown",
   "metadata": {},
   "source": [
    "Let's try using our new masking procedures to see if we can try to get better modeling results this time around. We will later recompose our predictions with their associated masks."
   ]
  },
  {
   "cell_type": "code",
   "execution_count": 11,
   "metadata": {},
   "outputs": [],
   "source": [
    "conc_masks, masked_images, removed_values = ice_modeler.process_image_masks(conc_images)"
   ]
  },
  {
   "cell_type": "markdown",
   "metadata": {},
   "source": [
    "Finally, let's make a train-test split along with storing away the final year's worth of images for our final test predictions. First we will check to make sure that the scaling procedure is working with masked values."
   ]
  },
  {
   "cell_type": "code",
   "execution_count": 33,
   "metadata": {},
   "outputs": [],
   "source": [
    "normed_images = ice_modeler.scale_to_normal(masked_images, image_type='concentration', masked=True)"
   ]
  },
  {
   "cell_type": "code",
   "execution_count": 34,
   "metadata": {},
   "outputs": [
    {
     "data": {
      "text/plain": [
       "0.0"
      ]
     },
     "execution_count": 34,
     "metadata": {},
     "output_type": "execute_result"
    }
   ],
   "source": [
    "np.min(normed_images)"
   ]
  },
  {
   "cell_type": "code",
   "execution_count": 35,
   "metadata": {},
   "outputs": [
    {
     "data": {
      "text/plain": [
       "1.0"
      ]
     },
     "execution_count": 35,
     "metadata": {},
     "output_type": "execute_result"
    }
   ],
   "source": [
    "np.max(normed_images)"
   ]
  },
  {
   "cell_type": "code",
   "execution_count": 51,
   "metadata": {},
   "outputs": [],
   "source": [
    "x_train = normed_images[:-3]\n",
    "y_train = normed_images[1:-2]\n",
    "x_test = normed_images[-3:-1]\n",
    "y_test = normed_images[-2:]\n",
    "pred_year = normed_images[-1]"
   ]
  },
  {
   "cell_type": "code",
   "execution_count": 52,
   "metadata": {},
   "outputs": [
    {
     "data": {
      "text/plain": [
       "(6, 365, 1, 448, 304)"
      ]
     },
     "execution_count": 52,
     "metadata": {},
     "output_type": "execute_result"
    }
   ],
   "source": [
    "x_train.shape"
   ]
  },
  {
   "cell_type": "code",
   "execution_count": 53,
   "metadata": {},
   "outputs": [
    {
     "data": {
      "text/plain": [
       "(6, 365, 1, 448, 304)"
      ]
     },
     "execution_count": 53,
     "metadata": {},
     "output_type": "execute_result"
    }
   ],
   "source": [
    "y_train.shape"
   ]
  },
  {
   "cell_type": "code",
   "execution_count": 54,
   "metadata": {},
   "outputs": [
    {
     "data": {
      "text/plain": [
       "(2, 365, 1, 448, 304)"
      ]
     },
     "execution_count": 54,
     "metadata": {},
     "output_type": "execute_result"
    }
   ],
   "source": [
    "x_test.shape"
   ]
  },
  {
   "cell_type": "code",
   "execution_count": 55,
   "metadata": {},
   "outputs": [
    {
     "data": {
      "text/plain": [
       "(2, 365, 1, 448, 304)"
      ]
     },
     "execution_count": 55,
     "metadata": {},
     "output_type": "execute_result"
    }
   ],
   "source": [
    "y_test.shape"
   ]
  },
  {
   "cell_type": "markdown",
   "metadata": {},
   "source": [
    "Let's add some layer's to our model. For now, we will leave out the initial convolution layer from our model, in an effort to nail down some particular working parameters for our TCN layers first, as these will prove more critical I would imagine. Because our images remain in image form, we should start with a single time-distributed flattening layer so that the images are appropriately shaped for TCN analysis. We can reshape them at the end of the chain back into image form, so that we can generate the images. In between, we will start with one TCN layer followed by a time-distributed dense layer to condense the information."
   ]
  },
  {
   "cell_type": "code",
   "execution_count": 60,
   "metadata": {},
   "outputs": [],
   "source": [
    "ice_modeler.reset_model()\n",
    "#ice_modeler.add_n_td_conv2d(1, filters=4, kernel_size=(4,4), padding='same')\n",
    "#ice_modeler.add_td_avg_pool(pool_size=(4,4), strides=2, padding='valid')\n",
    "ice_modeler.add_td_flatten()\n",
    "ice_modeler.add_n_tcn(1, nb_filters=6, kernel_size=3, nb_stacks=5, activation='relu', kernel_initializer='he_uniform', dropout_rate=0.1)\n",
    "ice_modeler.add_n_tcn(1, nb_filters=6, kernel_size=7, nb_stacks=5, activation='relu', kernel_initializer='he_uniform', dropout_rate=0.1)\n",
    "ice_modeler.add_n_tcn(1, nb_filters=5, kernel_size=30, nb_stacks=5, activation='relu', kernel_initializer='he_uniform', dropout_rate=0.1)\n",
    "ice_modeler.add_n_td_dense(1, ice_modeler.im_size, activation='relu', kernel_initializer='he_uniform', l2_amt=0.1)\n",
    "ice_modeler.add_td_im_reshape()"
   ]
  },
  {
   "cell_type": "markdown",
   "metadata": {},
   "source": [
    "Because this is ultimately a regression analysis, albeit on a rather large scale, we should probably use the mean-squared-error as our loss function for optimization. Perhaps other losses will work better, but this is a tried and true loss function for regression analysis and is definitely the best place to start. This loss function is also a good metric on our overall model performance, as it directly measures the difference in pixel values across the board."
   ]
  },
  {
   "cell_type": "code",
   "execution_count": 61,
   "metadata": {},
   "outputs": [],
   "source": [
    "ice_modeler.compile(loss='mean_squared_error', optimizer='adam')"
   ]
  },
  {
   "cell_type": "markdown",
   "metadata": {},
   "source": [
    "Now we can fit the model."
   ]
  },
  {
   "cell_type": "code",
   "execution_count": 62,
   "metadata": {},
   "outputs": [
    {
     "name": "stdout",
     "output_type": "stream",
     "text": [
      "Epoch 1/12\n",
      "6/6 [==============================] - 198s 33s/step - loss: nan             \n",
      "Epoch 2/12\n",
      "2/6 [=========>....................] - ETA: 10s - loss: nan"
     ]
    },
    {
     "ename": "KeyboardInterrupt",
     "evalue": "",
     "output_type": "error",
     "traceback": [
      "\u001b[0;31m---------------------------------------------------------------------------\u001b[0m",
      "\u001b[0;31mKeyboardInterrupt\u001b[0m                         Traceback (most recent call last)",
      "\u001b[0;32m<ipython-input-62-771c43a2e1fe>\u001b[0m in \u001b[0;36m<module>\u001b[0;34m\u001b[0m\n\u001b[0;32m----> 1\u001b[0;31m \u001b[0mice_modeler\u001b[0m\u001b[0;34m.\u001b[0m\u001b[0mfit\u001b[0m\u001b[0;34m(\u001b[0m\u001b[0mx_train\u001b[0m\u001b[0;34m,\u001b[0m \u001b[0my_train\u001b[0m\u001b[0;34m,\u001b[0m \u001b[0mepochs\u001b[0m\u001b[0;34m=\u001b[0m\u001b[0;36m12\u001b[0m\u001b[0;34m)\u001b[0m\u001b[0;34m\u001b[0m\u001b[0;34m\u001b[0m\u001b[0m\n\u001b[0m",
      "\u001b[0;32m~/Documents/sea-ice-prediction/ice_modeler.py\u001b[0m in \u001b[0;36mfit\u001b[0;34m(self, x_train, y_train, epochs, batch_size)\u001b[0m\n\u001b[1;32m    590\u001b[0m             \u001b[0my_train\u001b[0m\u001b[0;34m,\u001b[0m\u001b[0;34m\u001b[0m\u001b[0;34m\u001b[0m\u001b[0m\n\u001b[1;32m    591\u001b[0m             \u001b[0mepochs\u001b[0m\u001b[0;34m=\u001b[0m\u001b[0mepochs\u001b[0m\u001b[0;34m,\u001b[0m\u001b[0;34m\u001b[0m\u001b[0;34m\u001b[0m\u001b[0m\n\u001b[0;32m--> 592\u001b[0;31m             batch_size=batch_size)\n\u001b[0m\u001b[1;32m    593\u001b[0m \u001b[0;34m\u001b[0m\u001b[0m\n\u001b[1;32m    594\u001b[0m     \u001b[0;32mdef\u001b[0m \u001b[0mpredict\u001b[0m\u001b[0;34m(\u001b[0m\u001b[0mself\u001b[0m\u001b[0;34m,\u001b[0m \u001b[0mtest_frames\u001b[0m\u001b[0;34m)\u001b[0m\u001b[0;34m:\u001b[0m\u001b[0;34m\u001b[0m\u001b[0;34m\u001b[0m\u001b[0m\n",
      "\u001b[0;32m//anaconda3/envs/learn-climate/lib/python3.6/site-packages/keras/engine/training.py\u001b[0m in \u001b[0;36mfit\u001b[0;34m(self, x, y, batch_size, epochs, verbose, callbacks, validation_split, validation_data, shuffle, class_weight, sample_weight, initial_epoch, steps_per_epoch, validation_steps, validation_freq, max_queue_size, workers, use_multiprocessing, **kwargs)\u001b[0m\n\u001b[1;32m   1237\u001b[0m                                         \u001b[0msteps_per_epoch\u001b[0m\u001b[0;34m=\u001b[0m\u001b[0msteps_per_epoch\u001b[0m\u001b[0;34m,\u001b[0m\u001b[0;34m\u001b[0m\u001b[0;34m\u001b[0m\u001b[0m\n\u001b[1;32m   1238\u001b[0m                                         \u001b[0mvalidation_steps\u001b[0m\u001b[0;34m=\u001b[0m\u001b[0mvalidation_steps\u001b[0m\u001b[0;34m,\u001b[0m\u001b[0;34m\u001b[0m\u001b[0;34m\u001b[0m\u001b[0m\n\u001b[0;32m-> 1239\u001b[0;31m                                         validation_freq=validation_freq)\n\u001b[0m\u001b[1;32m   1240\u001b[0m \u001b[0;34m\u001b[0m\u001b[0m\n\u001b[1;32m   1241\u001b[0m     def evaluate(self,\n",
      "\u001b[0;32m//anaconda3/envs/learn-climate/lib/python3.6/site-packages/keras/engine/training_arrays.py\u001b[0m in \u001b[0;36mfit_loop\u001b[0;34m(model, fit_function, fit_inputs, out_labels, batch_size, epochs, verbose, callbacks, val_function, val_inputs, shuffle, initial_epoch, steps_per_epoch, validation_steps, validation_freq)\u001b[0m\n\u001b[1;32m    194\u001b[0m                     \u001b[0mins_batch\u001b[0m\u001b[0;34m[\u001b[0m\u001b[0mi\u001b[0m\u001b[0;34m]\u001b[0m \u001b[0;34m=\u001b[0m \u001b[0mins_batch\u001b[0m\u001b[0;34m[\u001b[0m\u001b[0mi\u001b[0m\u001b[0;34m]\u001b[0m\u001b[0;34m.\u001b[0m\u001b[0mtoarray\u001b[0m\u001b[0;34m(\u001b[0m\u001b[0;34m)\u001b[0m\u001b[0;34m\u001b[0m\u001b[0;34m\u001b[0m\u001b[0m\n\u001b[1;32m    195\u001b[0m \u001b[0;34m\u001b[0m\u001b[0m\n\u001b[0;32m--> 196\u001b[0;31m                 \u001b[0mouts\u001b[0m \u001b[0;34m=\u001b[0m \u001b[0mfit_function\u001b[0m\u001b[0;34m(\u001b[0m\u001b[0mins_batch\u001b[0m\u001b[0;34m)\u001b[0m\u001b[0;34m\u001b[0m\u001b[0;34m\u001b[0m\u001b[0m\n\u001b[0m\u001b[1;32m    197\u001b[0m                 \u001b[0mouts\u001b[0m \u001b[0;34m=\u001b[0m \u001b[0mto_list\u001b[0m\u001b[0;34m(\u001b[0m\u001b[0mouts\u001b[0m\u001b[0;34m)\u001b[0m\u001b[0;34m\u001b[0m\u001b[0;34m\u001b[0m\u001b[0m\n\u001b[1;32m    198\u001b[0m                 \u001b[0;32mfor\u001b[0m \u001b[0ml\u001b[0m\u001b[0;34m,\u001b[0m \u001b[0mo\u001b[0m \u001b[0;32min\u001b[0m \u001b[0mzip\u001b[0m\u001b[0;34m(\u001b[0m\u001b[0mout_labels\u001b[0m\u001b[0;34m,\u001b[0m \u001b[0mouts\u001b[0m\u001b[0;34m)\u001b[0m\u001b[0;34m:\u001b[0m\u001b[0;34m\u001b[0m\u001b[0;34m\u001b[0m\u001b[0m\n",
      "\u001b[0;32m//anaconda3/envs/learn-climate/lib/python3.6/site-packages/tensorflow/python/keras/backend.py\u001b[0m in \u001b[0;36m__call__\u001b[0;34m(self, inputs)\u001b[0m\n\u001b[1;32m   3074\u001b[0m \u001b[0;34m\u001b[0m\u001b[0m\n\u001b[1;32m   3075\u001b[0m     fetched = self._callable_fn(*array_vals,\n\u001b[0;32m-> 3076\u001b[0;31m                                 run_metadata=self.run_metadata)\n\u001b[0m\u001b[1;32m   3077\u001b[0m     \u001b[0mself\u001b[0m\u001b[0;34m.\u001b[0m\u001b[0m_call_fetch_callbacks\u001b[0m\u001b[0;34m(\u001b[0m\u001b[0mfetched\u001b[0m\u001b[0;34m[\u001b[0m\u001b[0;34m-\u001b[0m\u001b[0mlen\u001b[0m\u001b[0;34m(\u001b[0m\u001b[0mself\u001b[0m\u001b[0;34m.\u001b[0m\u001b[0m_fetches\u001b[0m\u001b[0;34m)\u001b[0m\u001b[0;34m:\u001b[0m\u001b[0;34m]\u001b[0m\u001b[0;34m)\u001b[0m\u001b[0;34m\u001b[0m\u001b[0;34m\u001b[0m\u001b[0m\n\u001b[1;32m   3078\u001b[0m     return nest.pack_sequence_as(self._outputs_structure,\n",
      "\u001b[0;32m//anaconda3/envs/learn-climate/lib/python3.6/site-packages/tensorflow/python/client/session.py\u001b[0m in \u001b[0;36m__call__\u001b[0;34m(self, *args, **kwargs)\u001b[0m\n\u001b[1;32m   1437\u001b[0m           ret = tf_session.TF_SessionRunCallable(\n\u001b[1;32m   1438\u001b[0m               \u001b[0mself\u001b[0m\u001b[0;34m.\u001b[0m\u001b[0m_session\u001b[0m\u001b[0;34m.\u001b[0m\u001b[0m_session\u001b[0m\u001b[0;34m,\u001b[0m \u001b[0mself\u001b[0m\u001b[0;34m.\u001b[0m\u001b[0m_handle\u001b[0m\u001b[0;34m,\u001b[0m \u001b[0margs\u001b[0m\u001b[0;34m,\u001b[0m \u001b[0mstatus\u001b[0m\u001b[0;34m,\u001b[0m\u001b[0;34m\u001b[0m\u001b[0;34m\u001b[0m\u001b[0m\n\u001b[0;32m-> 1439\u001b[0;31m               run_metadata_ptr)\n\u001b[0m\u001b[1;32m   1440\u001b[0m         \u001b[0;32mif\u001b[0m \u001b[0mrun_metadata\u001b[0m\u001b[0;34m:\u001b[0m\u001b[0;34m\u001b[0m\u001b[0;34m\u001b[0m\u001b[0m\n\u001b[1;32m   1441\u001b[0m           \u001b[0mproto_data\u001b[0m \u001b[0;34m=\u001b[0m \u001b[0mtf_session\u001b[0m\u001b[0;34m.\u001b[0m\u001b[0mTF_GetBuffer\u001b[0m\u001b[0;34m(\u001b[0m\u001b[0mrun_metadata_ptr\u001b[0m\u001b[0;34m)\u001b[0m\u001b[0;34m\u001b[0m\u001b[0;34m\u001b[0m\u001b[0m\n",
      "\u001b[0;31mKeyboardInterrupt\u001b[0m: "
     ]
    }
   ],
   "source": [
    "ice_modeler.fit(x_train, y_train, epochs=12)"
   ]
  },
  {
   "cell_type": "code",
   "execution_count": 44,
   "metadata": {},
   "outputs": [],
   "source": [
    "predictions = ice_modeler.predict(x_test)"
   ]
  },
  {
   "cell_type": "code",
   "execution_count": 45,
   "metadata": {},
   "outputs": [
    {
     "data": {
      "text/plain": [
       "(2, 365, 1, 448, 304)"
      ]
     },
     "execution_count": 45,
     "metadata": {},
     "output_type": "execute_result"
    }
   ],
   "source": [
    "predictions.shape"
   ]
  },
  {
   "cell_type": "code",
   "execution_count": 46,
   "metadata": {},
   "outputs": [],
   "source": [
    "predictions_images = ice_modeler.scale_from_normal(predictions, image_type='concentration', masked=True)"
   ]
  },
  {
   "cell_type": "code",
   "execution_count": 48,
   "metadata": {},
   "outputs": [
    {
     "data": {
      "image/png": "[encoded data removed]",
      "text/plain": [
       "<Figure size 432x288 with 2 Axes>"
      ]
     },
     "metadata": {
      "needs_background": "light"
     },
     "output_type": "display_data"
    },
    {
     "data": {
      "image/png": "[encoded data removed]",
      "text/plain": [
       "<Figure size 432x288 with 2 Axes>"
      ]
     },
     "metadata": {
      "needs_background": "light"
     },
     "output_type": "display_data"
    },
    {
     "data": {
      "image/png": "[encoded data removed]",
      "text/plain": [
       "<Figure size 432x288 with 2 Axes>"
      ]
     },
     "metadata": {
      "needs_background": "light"
     },
     "output_type": "display_data"
    },
    {
     "data": {
      "image/png": "[encoded data removed]",
      "text/plain": [
       "<Figure size 432x288 with 2 Axes>"
      ]
     },
     "metadata": {
      "needs_background": "light"
     },
     "output_type": "display_data"
    },
    {
     "data": {
      "image/png": "[encoded data removed]",
      "text/plain": [
       "<Figure size 432x288 with 2 Axes>"
      ]
     },
     "metadata": {
      "needs_background": "light"
     },
     "output_type": "display_data"
    }
   ],
   "source": [
    "for i in range(5):\n",
    "    frame = predictions_images[0, i, :, :]\n",
    "    actual = ice_modeler.scale_from_normal(y_test[0, i, :, :], image_type='concentration', masked=True)\n",
    "    conc_processor.make_side_by_side_image(frame, actual, image_type='concentration')\n"
   ]
  },
  {
   "cell_type": "code",
   "execution_count": null,
   "metadata": {},
   "outputs": [],
   "source": []
  }
 ],
 "metadata": {
  "kernelspec": {
   "display_name": "Python 3",
   "language": "python",
   "name": "python3"
  },
  "language_info": {
   "codemirror_mode": {
    "name": "ipython",
    "version": 3
   },
   "file_extension": ".py",
   "mimetype": "text/x-python",
   "name": "python",
   "nbconvert_exporter": "python",
   "pygments_lexer": "ipython3",
   "version": "3.6.7"
  }
 },
 "nbformat": 4,
 "nbformat_minor": 4
}
