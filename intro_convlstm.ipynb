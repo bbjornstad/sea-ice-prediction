{
 "cells": [
  {
   "cell_type": "code",
   "execution_count": 2,
   "metadata": {},
   "outputs": [],
   "source": [
    "%load_ext autoreload\n",
    "%autoreload 2"
   ]
  },
  {
   "cell_type": "code",
   "execution_count": 3,
   "metadata": {},
   "outputs": [],
   "source": [
    "import pandas as pd\n",
    "import numpy as np\n",
    "import matplotlib.pyplot as plt\n",
    "from nsidc_processor import GeotiffProcessor"
   ]
  },
  {
   "cell_type": "code",
   "execution_count": 4,
   "metadata": {},
   "outputs": [],
   "source": [
    "import warnings\n",
    "warnings.filterwarnings('ignore')"
   ]
  },
  {
   "cell_type": "code",
   "execution_count": 5,
   "metadata": {},
   "outputs": [],
   "source": [
    "north_geotiff_index = pd.read_csv('daily_northern_geotiff_index.csv', index_col=0)\n",
    "north_geotiff_index.date = pd.to_datetime(north_geotiff_index.date, infer_datetime_format=True)"
   ]
  },
  {
   "cell_type": "code",
   "execution_count": 6,
   "metadata": {},
   "outputs": [],
   "source": [
    "conc_index = north_geotiff_index.loc[north_geotiff_index.image_type == 'concentration']\n",
    "ext_index = north_geotiff_index.loc[north_geotiff_index.image_type == 'extent']"
   ]
  },
  {
   "cell_type": "code",
   "execution_count": 7,
   "metadata": {},
   "outputs": [],
   "source": [
    "conc_index = conc_index.set_index('date')\n",
    "ext_index = ext_index.set_index('date')"
   ]
  },
  {
   "cell_type": "code",
   "execution_count": 8,
   "metadata": {},
   "outputs": [
    {
     "data": {
      "text/html": [
       "<div>\n",
       "<style scoped>\n",
       "    .dataframe tbody tr th:only-of-type {\n",
       "        vertical-align: middle;\n",
       "    }\n",
       "\n",
       "    .dataframe tbody tr th {\n",
       "        vertical-align: top;\n",
       "    }\n",
       "\n",
       "    .dataframe thead th {\n",
       "        text-align: right;\n",
       "    }\n",
       "</style>\n",
       "<table border=\"1\" class=\"dataframe\">\n",
       "  <thead>\n",
       "    <tr style=\"text-align: right;\">\n",
       "      <th></th>\n",
       "      <th>file_name</th>\n",
       "      <th>hemisphere</th>\n",
       "      <th>image_type</th>\n",
       "    </tr>\n",
       "    <tr>\n",
       "      <th>date</th>\n",
       "      <th></th>\n",
       "      <th></th>\n",
       "      <th></th>\n",
       "    </tr>\n",
       "  </thead>\n",
       "  <tbody>\n",
       "    <tr>\n",
       "      <th>1978-10-26</th>\n",
       "      <td>daily/geotiff/1978/N_19781026_concentration_v3...</td>\n",
       "      <td>north</td>\n",
       "      <td>concentration</td>\n",
       "    </tr>\n",
       "    <tr>\n",
       "      <th>1978-10-28</th>\n",
       "      <td>daily/geotiff/1978/N_19781028_concentration_v3...</td>\n",
       "      <td>north</td>\n",
       "      <td>concentration</td>\n",
       "    </tr>\n",
       "    <tr>\n",
       "      <th>1978-10-30</th>\n",
       "      <td>daily/geotiff/1978/N_19781030_concentration_v3...</td>\n",
       "      <td>north</td>\n",
       "      <td>concentration</td>\n",
       "    </tr>\n",
       "    <tr>\n",
       "      <th>1978-11-01</th>\n",
       "      <td>daily/geotiff/1978/N_19781101_concentration_v3...</td>\n",
       "      <td>north</td>\n",
       "      <td>concentration</td>\n",
       "    </tr>\n",
       "    <tr>\n",
       "      <th>1978-11-03</th>\n",
       "      <td>daily/geotiff/1978/N_19781103_concentration_v3...</td>\n",
       "      <td>north</td>\n",
       "      <td>concentration</td>\n",
       "    </tr>\n",
       "  </tbody>\n",
       "</table>\n",
       "</div>"
      ],
      "text/plain": [
       "                                                    file_name hemisphere  \\\n",
       "date                                                                       \n",
       "1978-10-26  daily/geotiff/1978/N_19781026_concentration_v3...      north   \n",
       "1978-10-28  daily/geotiff/1978/N_19781028_concentration_v3...      north   \n",
       "1978-10-30  daily/geotiff/1978/N_19781030_concentration_v3...      north   \n",
       "1978-11-01  daily/geotiff/1978/N_19781101_concentration_v3...      north   \n",
       "1978-11-03  daily/geotiff/1978/N_19781103_concentration_v3...      north   \n",
       "\n",
       "               image_type  \n",
       "date                       \n",
       "1978-10-26  concentration  \n",
       "1978-10-28  concentration  \n",
       "1978-10-30  concentration  \n",
       "1978-11-01  concentration  \n",
       "1978-11-03  concentration  "
      ]
     },
     "execution_count": 8,
     "metadata": {},
     "output_type": "execute_result"
    }
   ],
   "source": [
    "conc_index.head()"
   ]
  },
  {
   "cell_type": "code",
   "execution_count": 9,
   "metadata": {},
   "outputs": [
    {
     "data": {
      "text/html": [
       "<div>\n",
       "<style scoped>\n",
       "    .dataframe tbody tr th:only-of-type {\n",
       "        vertical-align: middle;\n",
       "    }\n",
       "\n",
       "    .dataframe tbody tr th {\n",
       "        vertical-align: top;\n",
       "    }\n",
       "\n",
       "    .dataframe thead th {\n",
       "        text-align: right;\n",
       "    }\n",
       "</style>\n",
       "<table border=\"1\" class=\"dataframe\">\n",
       "  <thead>\n",
       "    <tr style=\"text-align: right;\">\n",
       "      <th></th>\n",
       "      <th>file_name</th>\n",
       "      <th>hemisphere</th>\n",
       "      <th>image_type</th>\n",
       "    </tr>\n",
       "    <tr>\n",
       "      <th>date</th>\n",
       "      <th></th>\n",
       "      <th></th>\n",
       "      <th></th>\n",
       "    </tr>\n",
       "  </thead>\n",
       "  <tbody>\n",
       "    <tr>\n",
       "      <th>1978-10-26</th>\n",
       "      <td>daily/geotiff/1978/N_19781026_extent_v3.0.tif</td>\n",
       "      <td>north</td>\n",
       "      <td>extent</td>\n",
       "    </tr>\n",
       "    <tr>\n",
       "      <th>1978-10-28</th>\n",
       "      <td>daily/geotiff/1978/N_19781028_extent_v3.0.tif</td>\n",
       "      <td>north</td>\n",
       "      <td>extent</td>\n",
       "    </tr>\n",
       "    <tr>\n",
       "      <th>1978-10-30</th>\n",
       "      <td>daily/geotiff/1978/N_19781030_extent_v3.0.tif</td>\n",
       "      <td>north</td>\n",
       "      <td>extent</td>\n",
       "    </tr>\n",
       "    <tr>\n",
       "      <th>1978-11-01</th>\n",
       "      <td>daily/geotiff/1978/N_19781101_extent_v3.0.tif</td>\n",
       "      <td>north</td>\n",
       "      <td>extent</td>\n",
       "    </tr>\n",
       "    <tr>\n",
       "      <th>1978-11-03</th>\n",
       "      <td>daily/geotiff/1978/N_19781103_extent_v3.0.tif</td>\n",
       "      <td>north</td>\n",
       "      <td>extent</td>\n",
       "    </tr>\n",
       "  </tbody>\n",
       "</table>\n",
       "</div>"
      ],
      "text/plain": [
       "                                                file_name hemisphere  \\\n",
       "date                                                                   \n",
       "1978-10-26  daily/geotiff/1978/N_19781026_extent_v3.0.tif      north   \n",
       "1978-10-28  daily/geotiff/1978/N_19781028_extent_v3.0.tif      north   \n",
       "1978-10-30  daily/geotiff/1978/N_19781030_extent_v3.0.tif      north   \n",
       "1978-11-01  daily/geotiff/1978/N_19781101_extent_v3.0.tif      north   \n",
       "1978-11-03  daily/geotiff/1978/N_19781103_extent_v3.0.tif      north   \n",
       "\n",
       "           image_type  \n",
       "date                   \n",
       "1978-10-26     extent  \n",
       "1978-10-28     extent  \n",
       "1978-10-30     extent  \n",
       "1978-11-01     extent  \n",
       "1978-11-03     extent  "
      ]
     },
     "execution_count": 9,
     "metadata": {},
     "output_type": "execute_result"
    }
   ],
   "source": [
    "ext_index.head()"
   ]
  },
  {
   "cell_type": "code",
   "execution_count": 10,
   "metadata": {},
   "outputs": [],
   "source": [
    "conc_processor = GeotiffProcessor('raw_images/', conc_index)\n",
    "ext_processor = GeotiffProcessor('raw_images/', ext_index)"
   ]
  },
  {
   "cell_type": "code",
   "execution_count": 11,
   "metadata": {},
   "outputs": [],
   "source": [
    "conc_index_imputed = conc_processor.impute_missing_index_dates(set_this_index=True)\n",
    "ext_index_imputed = ext_processor.impute_missing_index_dates(set_this_index=True)"
   ]
  },
  {
   "cell_type": "markdown",
   "metadata": {},
   "source": [
    "----"
   ]
  },
  {
   "cell_type": "code",
   "execution_count": 12,
   "metadata": {},
   "outputs": [],
   "source": [
    "ext_index_last_2 = conc_index_imputed.loc['2017-01-01':'2018-12-31']"
   ]
  },
  {
   "cell_type": "code",
   "execution_count": 13,
   "metadata": {},
   "outputs": [
    {
     "data": {
      "text/html": [
       "<div>\n",
       "<style scoped>\n",
       "    .dataframe tbody tr th:only-of-type {\n",
       "        vertical-align: middle;\n",
       "    }\n",
       "\n",
       "    .dataframe tbody tr th {\n",
       "        vertical-align: top;\n",
       "    }\n",
       "\n",
       "    .dataframe thead th {\n",
       "        text-align: right;\n",
       "    }\n",
       "</style>\n",
       "<table border=\"1\" class=\"dataframe\">\n",
       "  <thead>\n",
       "    <tr style=\"text-align: right;\">\n",
       "      <th></th>\n",
       "      <th>file_name</th>\n",
       "      <th>hemisphere</th>\n",
       "      <th>image_type</th>\n",
       "    </tr>\n",
       "    <tr>\n",
       "      <th>date</th>\n",
       "      <th></th>\n",
       "      <th></th>\n",
       "      <th></th>\n",
       "    </tr>\n",
       "  </thead>\n",
       "  <tbody>\n",
       "    <tr>\n",
       "      <th>2017-01-01</th>\n",
       "      <td>daily/geotiff/2017/N_20170101_concentration_v3...</td>\n",
       "      <td>north</td>\n",
       "      <td>concentration</td>\n",
       "    </tr>\n",
       "    <tr>\n",
       "      <th>2017-01-02</th>\n",
       "      <td>daily/geotiff/2017/N_20170102_concentration_v3...</td>\n",
       "      <td>north</td>\n",
       "      <td>concentration</td>\n",
       "    </tr>\n",
       "    <tr>\n",
       "      <th>2017-01-03</th>\n",
       "      <td>daily/geotiff/2017/N_20170103_concentration_v3...</td>\n",
       "      <td>north</td>\n",
       "      <td>concentration</td>\n",
       "    </tr>\n",
       "    <tr>\n",
       "      <th>2017-01-04</th>\n",
       "      <td>daily/geotiff/2017/N_20170104_concentration_v3...</td>\n",
       "      <td>north</td>\n",
       "      <td>concentration</td>\n",
       "    </tr>\n",
       "    <tr>\n",
       "      <th>2017-01-05</th>\n",
       "      <td>daily/geotiff/2017/N_20170105_concentration_v3...</td>\n",
       "      <td>north</td>\n",
       "      <td>concentration</td>\n",
       "    </tr>\n",
       "    <tr>\n",
       "      <th>...</th>\n",
       "      <td>...</td>\n",
       "      <td>...</td>\n",
       "      <td>...</td>\n",
       "    </tr>\n",
       "    <tr>\n",
       "      <th>2018-12-27</th>\n",
       "      <td>daily/geotiff/2018/N_20181227_concentration_v3...</td>\n",
       "      <td>north</td>\n",
       "      <td>concentration</td>\n",
       "    </tr>\n",
       "    <tr>\n",
       "      <th>2018-12-28</th>\n",
       "      <td>daily/geotiff/2018/N_20181228_concentration_v3...</td>\n",
       "      <td>north</td>\n",
       "      <td>concentration</td>\n",
       "    </tr>\n",
       "    <tr>\n",
       "      <th>2018-12-29</th>\n",
       "      <td>daily/geotiff/2018/N_20181229_concentration_v3...</td>\n",
       "      <td>north</td>\n",
       "      <td>concentration</td>\n",
       "    </tr>\n",
       "    <tr>\n",
       "      <th>2018-12-30</th>\n",
       "      <td>daily/geotiff/2018/N_20181230_concentration_v3...</td>\n",
       "      <td>north</td>\n",
       "      <td>concentration</td>\n",
       "    </tr>\n",
       "    <tr>\n",
       "      <th>2018-12-31</th>\n",
       "      <td>daily/geotiff/2018/N_20181231_concentration_v3...</td>\n",
       "      <td>north</td>\n",
       "      <td>concentration</td>\n",
       "    </tr>\n",
       "  </tbody>\n",
       "</table>\n",
       "<p>730 rows × 3 columns</p>\n",
       "</div>"
      ],
      "text/plain": [
       "                                                    file_name hemisphere  \\\n",
       "date                                                                       \n",
       "2017-01-01  daily/geotiff/2017/N_20170101_concentration_v3...      north   \n",
       "2017-01-02  daily/geotiff/2017/N_20170102_concentration_v3...      north   \n",
       "2017-01-03  daily/geotiff/2017/N_20170103_concentration_v3...      north   \n",
       "2017-01-04  daily/geotiff/2017/N_20170104_concentration_v3...      north   \n",
       "2017-01-05  daily/geotiff/2017/N_20170105_concentration_v3...      north   \n",
       "...                                                       ...        ...   \n",
       "2018-12-27  daily/geotiff/2018/N_20181227_concentration_v3...      north   \n",
       "2018-12-28  daily/geotiff/2018/N_20181228_concentration_v3...      north   \n",
       "2018-12-29  daily/geotiff/2018/N_20181229_concentration_v3...      north   \n",
       "2018-12-30  daily/geotiff/2018/N_20181230_concentration_v3...      north   \n",
       "2018-12-31  daily/geotiff/2018/N_20181231_concentration_v3...      north   \n",
       "\n",
       "               image_type  \n",
       "date                       \n",
       "2017-01-01  concentration  \n",
       "2017-01-02  concentration  \n",
       "2017-01-03  concentration  \n",
       "2017-01-04  concentration  \n",
       "2017-01-05  concentration  \n",
       "...                   ...  \n",
       "2018-12-27  concentration  \n",
       "2018-12-28  concentration  \n",
       "2018-12-29  concentration  \n",
       "2018-12-30  concentration  \n",
       "2018-12-31  concentration  \n",
       "\n",
       "[730 rows x 3 columns]"
      ]
     },
     "execution_count": 13,
     "metadata": {},
     "output_type": "execute_result"
    }
   ],
   "source": [
    "ext_index_last_2"
   ]
  },
  {
   "cell_type": "code",
   "execution_count": 14,
   "metadata": {},
   "outputs": [],
   "source": [
    "trim_processor = GeotiffProcessor('raw_images/', ext_index_last_2)"
   ]
  },
  {
   "cell_type": "code",
   "execution_count": 15,
   "metadata": {},
   "outputs": [],
   "source": [
    "ext_last2 = trim_processor.process_images_keras_convlstm()"
   ]
  },
  {
   "cell_type": "code",
   "execution_count": 16,
   "metadata": {},
   "outputs": [
    {
     "data": {
      "text/plain": [
       "(1, 730, 1, 448, 304)"
      ]
     },
     "execution_count": 16,
     "metadata": {},
     "output_type": "execute_result"
    }
   ],
   "source": [
    "ext_last2.shape"
   ]
  },
  {
   "cell_type": "code",
   "execution_count": 15,
   "metadata": {},
   "outputs": [
    {
     "name": "stderr",
     "output_type": "stream",
     "text": [
      "Using TensorFlow backend.\n"
     ]
    }
   ],
   "source": [
    "from keras.models import Sequential\n",
    "import keras.backend as k\n",
    "\n",
    "def mean_power_error(y_true, y_pred, p):\n",
    "    diff = k.abs(y_true - y_pred)\n",
    "    powered = diff ** p\n",
    "    return k.mean(powered)"
   ]
  },
  {
   "cell_type": "code",
   "execution_count": 85,
   "metadata": {},
   "outputs": [],
   "source": [
    "seq = Sequential()\n",
    "seq.add(ConvLSTM2D(\n",
    "    filters=1,\n",
    "    kernel_size=(3,3),\n",
    "    input_shape=(None, 1, 448, 304),\n",
    "    data_format='channels_first',\n",
    "    return_sequences=True,\n",
    "    activation='tanh',\n",
    "    padding='same'))"
   ]
  },
  {
   "cell_type": "code",
   "execution_count": 86,
   "metadata": {},
   "outputs": [],
   "source": [
    "seq.compile(loss=lambda true, pred: mean_power_error(true, pred, 4), optimizer='adadelta')"
   ]
  },
  {
   "cell_type": "code",
   "execution_count": 87,
   "metadata": {},
   "outputs": [],
   "source": [
    "x_train = ext_last2[:,:365,:,:,:]\n",
    "y_train = ext_last2[:,1:366,:,:,:]"
   ]
  },
  {
   "cell_type": "code",
   "execution_count": 88,
   "metadata": {},
   "outputs": [
    {
     "name": "stdout",
     "output_type": "stream",
     "text": [
      "Epoch 1/2\n",
      "1/1 [==============================] - 50s 50s/step - loss: 0.0054\n",
      "Epoch 2/2\n",
      "1/1 [==============================] - 50s 50s/step - loss: 0.0049\n"
     ]
    },
    {
     "data": {
      "text/plain": [
       "<keras.callbacks.callbacks.History at 0x12f5c8e10>"
      ]
     },
     "execution_count": 88,
     "metadata": {},
     "output_type": "execute_result"
    }
   ],
   "source": [
    "seq.fit(x_train, y_train, epochs=2)"
   ]
  },
  {
   "cell_type": "code",
   "execution_count": 89,
   "metadata": {},
   "outputs": [],
   "source": [
    "test_seq = ext_last2[:,10:30,:,:,:]"
   ]
  },
  {
   "cell_type": "code",
   "execution_count": 90,
   "metadata": {},
   "outputs": [],
   "source": [
    "test_pred = seq.predict(test_seq)"
   ]
  },
  {
   "cell_type": "code",
   "execution_count": 91,
   "metadata": {},
   "outputs": [],
   "source": [
    "test_frame = test_pred[:,15,:,:,:]"
   ]
  },
  {
   "cell_type": "code",
   "execution_count": 92,
   "metadata": {},
   "outputs": [
    {
     "data": {
      "text/plain": [
       "(1, 1, 448, 304)"
      ]
     },
     "execution_count": 92,
     "metadata": {},
     "output_type": "execute_result"
    }
   ],
   "source": [
    "test_frame.shape"
   ]
  },
  {
   "cell_type": "code",
   "execution_count": 16,
   "metadata": {},
   "outputs": [],
   "source": [
    "trim_processor.load_default_colormaps('default_extent_colormap.pkl', 'default_concentration_colormap.pkl')"
   ]
  },
  {
   "cell_type": "code",
   "execution_count": 93,
   "metadata": {},
   "outputs": [
    {
     "data": {
      "image/png": "[encoded data removed]",
      "text/plain": [
       "<Figure size 432x288 with 1 Axes>"
      ]
     },
     "execution_count": 93,
     "metadata": {},
     "output_type": "execute_result"
    }
   ],
   "source": [
    "trim_processor.make_colored_prediction_image(test_frame, image_type='concentration')"
   ]
  },
  {
   "cell_type": "code",
   "execution_count": 20,
   "metadata": {},
   "outputs": [
    {
     "data": {
      "text/html": [
       "<div>\n",
       "<style scoped>\n",
       "    .dataframe tbody tr th:only-of-type {\n",
       "        vertical-align: middle;\n",
       "    }\n",
       "\n",
       "    .dataframe tbody tr th {\n",
       "        vertical-align: top;\n",
       "    }\n",
       "\n",
       "    .dataframe thead th {\n",
       "        text-align: right;\n",
       "    }\n",
       "</style>\n",
       "<table border=\"1\" class=\"dataframe\">\n",
       "  <thead>\n",
       "    <tr style=\"text-align: right;\">\n",
       "      <th></th>\n",
       "      <th>file_name</th>\n",
       "      <th>hemisphere</th>\n",
       "      <th>image_type</th>\n",
       "    </tr>\n",
       "  </thead>\n",
       "  <tbody>\n",
       "    <tr>\n",
       "      <th>2017-01-01</th>\n",
       "      <td>daily/geotiff/2017/N_20170101_concentration_v3...</td>\n",
       "      <td>north</td>\n",
       "      <td>concentration</td>\n",
       "    </tr>\n",
       "    <tr>\n",
       "      <th>2017-01-02</th>\n",
       "      <td>daily/geotiff/2017/N_20170102_concentration_v3...</td>\n",
       "      <td>north</td>\n",
       "      <td>concentration</td>\n",
       "    </tr>\n",
       "    <tr>\n",
       "      <th>2017-01-03</th>\n",
       "      <td>daily/geotiff/2017/N_20170103_concentration_v3...</td>\n",
       "      <td>north</td>\n",
       "      <td>concentration</td>\n",
       "    </tr>\n",
       "    <tr>\n",
       "      <th>2017-01-04</th>\n",
       "      <td>daily/geotiff/2017/N_20170104_concentration_v3...</td>\n",
       "      <td>north</td>\n",
       "      <td>concentration</td>\n",
       "    </tr>\n",
       "    <tr>\n",
       "      <th>2017-01-05</th>\n",
       "      <td>daily/geotiff/2017/N_20170105_concentration_v3...</td>\n",
       "      <td>north</td>\n",
       "      <td>concentration</td>\n",
       "    </tr>\n",
       "    <tr>\n",
       "      <th>...</th>\n",
       "      <td>...</td>\n",
       "      <td>...</td>\n",
       "      <td>...</td>\n",
       "    </tr>\n",
       "    <tr>\n",
       "      <th>2018-12-27</th>\n",
       "      <td>daily/geotiff/2018/N_20181227_concentration_v3...</td>\n",
       "      <td>north</td>\n",
       "      <td>concentration</td>\n",
       "    </tr>\n",
       "    <tr>\n",
       "      <th>2018-12-28</th>\n",
       "      <td>daily/geotiff/2018/N_20181228_concentration_v3...</td>\n",
       "      <td>north</td>\n",
       "      <td>concentration</td>\n",
       "    </tr>\n",
       "    <tr>\n",
       "      <th>2018-12-29</th>\n",
       "      <td>daily/geotiff/2018/N_20181229_concentration_v3...</td>\n",
       "      <td>north</td>\n",
       "      <td>concentration</td>\n",
       "    </tr>\n",
       "    <tr>\n",
       "      <th>2018-12-30</th>\n",
       "      <td>daily/geotiff/2018/N_20181230_concentration_v3...</td>\n",
       "      <td>north</td>\n",
       "      <td>concentration</td>\n",
       "    </tr>\n",
       "    <tr>\n",
       "      <th>2018-12-31</th>\n",
       "      <td>daily/geotiff/2018/N_20181231_concentration_v3...</td>\n",
       "      <td>north</td>\n",
       "      <td>concentration</td>\n",
       "    </tr>\n",
       "  </tbody>\n",
       "</table>\n",
       "<p>730 rows × 3 columns</p>\n",
       "</div>"
      ],
      "text/plain": [
       "                                                    file_name hemisphere  \\\n",
       "2017-01-01  daily/geotiff/2017/N_20170101_concentration_v3...      north   \n",
       "2017-01-02  daily/geotiff/2017/N_20170102_concentration_v3...      north   \n",
       "2017-01-03  daily/geotiff/2017/N_20170103_concentration_v3...      north   \n",
       "2017-01-04  daily/geotiff/2017/N_20170104_concentration_v3...      north   \n",
       "2017-01-05  daily/geotiff/2017/N_20170105_concentration_v3...      north   \n",
       "...                                                       ...        ...   \n",
       "2018-12-27  daily/geotiff/2018/N_20181227_concentration_v3...      north   \n",
       "2018-12-28  daily/geotiff/2018/N_20181228_concentration_v3...      north   \n",
       "2018-12-29  daily/geotiff/2018/N_20181229_concentration_v3...      north   \n",
       "2018-12-30  daily/geotiff/2018/N_20181230_concentration_v3...      north   \n",
       "2018-12-31  daily/geotiff/2018/N_20181231_concentration_v3...      north   \n",
       "\n",
       "               image_type  \n",
       "2017-01-01  concentration  \n",
       "2017-01-02  concentration  \n",
       "2017-01-03  concentration  \n",
       "2017-01-04  concentration  \n",
       "2017-01-05  concentration  \n",
       "...                   ...  \n",
       "2018-12-27  concentration  \n",
       "2018-12-28  concentration  \n",
       "2018-12-29  concentration  \n",
       "2018-12-30  concentration  \n",
       "2018-12-31  concentration  \n",
       "\n",
       "[730 rows x 3 columns]"
      ]
     },
     "execution_count": 20,
     "metadata": {},
     "output_type": "execute_result"
    }
   ],
   "source": [
    "trim_processor.image_index"
   ]
  },
  {
   "cell_type": "code",
   "execution_count": 26,
   "metadata": {},
   "outputs": [
    {
     "data": {
      "image/png": "[encoded data removed]",
      "text/plain": [
       "<Figure size 432x288 with 1 Axes>"
      ]
     },
     "execution_count": 26,
     "metadata": {},
     "output_type": "execute_result"
    }
   ],
   "source": [
    "trim_processor.show_by_date('2018-01-01')"
   ]
  },
  {
   "cell_type": "markdown",
   "metadata": {},
   "source": [
    "----"
   ]
  },
  {
   "cell_type": "code",
   "execution_count": 17,
   "metadata": {},
   "outputs": [],
   "source": [
    "from keras.layers.convolutional import Conv2D\n",
    "from keras.layers.recurrent import LSTM\n",
    "from keras.layers import Flatten, Reshape, Permute\n",
    "from keras.layers import TimeDistributed"
   ]
  },
  {
   "cell_type": "code",
   "execution_count": 18,
   "metadata": {},
   "outputs": [
    {
     "ename": "AttributeError",
     "evalue": "'GeotiffProcessor' object has no attribute 'process_images_keras_conv2d'",
     "output_type": "error",
     "traceback": [
      "\u001b[0;31m---------------------------------------------------------------------------\u001b[0m",
      "\u001b[0;31mAttributeError\u001b[0m                            Traceback (most recent call last)",
      "\u001b[0;32m<ipython-input-18-b22ca90c0501>\u001b[0m in \u001b[0;36m<module>\u001b[0;34m\u001b[0m\n\u001b[0;32m----> 1\u001b[0;31m \u001b[0mconv_conc_images\u001b[0m \u001b[0;34m=\u001b[0m \u001b[0mtrim_processor\u001b[0m\u001b[0;34m.\u001b[0m\u001b[0mprocess_images_keras_conv2d\u001b[0m\u001b[0;34m(\u001b[0m\u001b[0;34m)\u001b[0m\u001b[0;34m\u001b[0m\u001b[0;34m\u001b[0m\u001b[0m\n\u001b[0m",
      "\u001b[0;31mAttributeError\u001b[0m: 'GeotiffProcessor' object has no attribute 'process_images_keras_conv2d'"
     ]
    }
   ],
   "source": [
    "conv_conc_images = trim_processor.process_images_keras_channels_first()"
   ]
  },
  {
   "cell_type": "code",
   "execution_count": 245,
   "metadata": {},
   "outputs": [],
   "source": [
    "x_train = conv_conc_images[:365,:,:,:]\n",
    "y_train = conv_conc_images[1:366,:,:,:]"
   ]
  },
  {
   "cell_type": "code",
   "execution_count": 246,
   "metadata": {},
   "outputs": [
    {
     "data": {
      "text/plain": [
       "(365, 1, 448, 304)"
      ]
     },
     "execution_count": 246,
     "metadata": {},
     "output_type": "execute_result"
    }
   ],
   "source": [
    "x_train.shape"
   ]
  },
  {
   "cell_type": "code",
   "execution_count": 248,
   "metadata": {},
   "outputs": [],
   "source": [
    "n_filters=4\n",
    "seq2 = Sequential()\n",
    "seq2.add(Conv2D(\n",
    "    filters=n_filters,\n",
    "    kernel_size=(5,5),\n",
    "    strides=1,\n",
    "    input_shape=(1, 448, 304),\n",
    "    data_format='channels_first',\n",
    "    activation='tanh',\n",
    "    padding='same'))"
   ]
  },
  {
   "cell_type": "code",
   "execution_count": 249,
   "metadata": {},
   "outputs": [],
   "source": [
    "seq2.compile(loss=lambda true, pred: mean_power_error(true, pred, 1), optimizer='adadelta')"
   ]
  },
  {
   "cell_type": "code",
   "execution_count": 250,
   "metadata": {},
   "outputs": [
    {
     "name": "stdout",
     "output_type": "stream",
     "text": [
      "Epoch 1/5\n",
      "365/365 [==============================] - 16s 43ms/step - loss: 0.0661\n",
      "Epoch 2/5\n",
      "365/365 [==============================] - 16s 45ms/step - loss: 0.0408\n",
      "Epoch 3/5\n",
      "365/365 [==============================] - 17s 47ms/step - loss: 0.0235\n",
      "Epoch 4/5\n",
      "365/365 [==============================] - 19s 52ms/step - loss: 0.0170\n",
      "Epoch 5/5\n",
      "365/365 [==============================] - 21s 58ms/step - loss: 0.0162\n"
     ]
    },
    {
     "data": {
      "text/plain": [
       "<keras.callbacks.callbacks.History at 0x134fd3208>"
      ]
     },
     "execution_count": 250,
     "metadata": {},
     "output_type": "execute_result"
    }
   ],
   "source": [
    "seq2.fit(x_train, y_train, epochs=5)"
   ]
  },
  {
   "cell_type": "code",
   "execution_count": 252,
   "metadata": {},
   "outputs": [],
   "source": [
    "test_frame = seq2.predict(conv_conc_images[365:730,:,:,:])"
   ]
  },
  {
   "cell_type": "code",
   "execution_count": 253,
   "metadata": {},
   "outputs": [
    {
     "data": {
      "text/plain": [
       "(365, 4, 448, 304)"
      ]
     },
     "execution_count": 253,
     "metadata": {},
     "output_type": "execute_result"
    }
   ],
   "source": [
    "test_frame.shape"
   ]
  },
  {
   "cell_type": "code",
   "execution_count": 255,
   "metadata": {},
   "outputs": [
    {
     "data": {
      "image/png": "[encoded data removed]",
      "text/plain": [
       "<Figure size 432x288 with 1 Axes>"
      ]
     },
     "metadata": {
      "needs_background": "light"
     },
     "output_type": "display_data"
    },
    {
     "data": {
      "image/png": "[encoded data removed]",
      "text/plain": [
       "<Figure size 432x288 with 1 Axes>"
      ]
     },
     "metadata": {
      "needs_background": "light"
     },
     "output_type": "display_data"
    },
    {
     "data": {
      "image/png": "[encoded data removed]",
      "text/plain": [
       "<Figure size 432x288 with 1 Axes>"
      ]
     },
     "metadata": {
      "needs_background": "light"
     },
     "output_type": "display_data"
    },
    {
     "data": {
      "image/png": "[encoded data removed]",
      "text/plain": [
       "<Figure size 432x288 with 1 Axes>"
      ]
     },
     "metadata": {
      "needs_background": "light"
     },
     "output_type": "display_data"
    }
   ],
   "source": [
    "for i in range(seq2.output_shape[1]):\n",
    "    frame = test_frame[-1,i,:,:]\n",
    "    trim_processor.make_colored_prediction_image(frame, image_type='concentration').show()"
   ]
  },
  {
   "cell_type": "markdown",
   "metadata": {},
   "source": [
    "----"
   ]
  },
  {
   "cell_type": "code",
   "execution_count": 19,
   "metadata": {},
   "outputs": [],
   "source": [
    "lstm_images = trim_processor.process_images_keras_lstm()"
   ]
  },
  {
   "cell_type": "code",
   "execution_count": 20,
   "metadata": {},
   "outputs": [
    {
     "data": {
      "text/plain": [
       "(1, 730, 136192)"
      ]
     },
     "execution_count": 20,
     "metadata": {},
     "output_type": "execute_result"
    }
   ],
   "source": [
    "lstm_images.shape"
   ]
  },
  {
   "cell_type": "code",
   "execution_count": 21,
   "metadata": {},
   "outputs": [],
   "source": [
    "x_train = lstm_images[:,:365,:]\n",
    "y_train = lstm_images[:,1:366,:]"
   ]
  },
  {
   "cell_type": "code",
   "execution_count": 22,
   "metadata": {},
   "outputs": [],
   "source": [
    "from keras.layers import Dense"
   ]
  },
  {
   "cell_type": "code",
   "execution_count": 23,
   "metadata": {},
   "outputs": [
    {
     "name": "stdout",
     "output_type": "stream",
     "text": [
      "WARNING:tensorflow:From //anaconda3/envs/learn-climate/lib/python3.6/site-packages/tensorflow/python/ops/resource_variable_ops.py:435: colocate_with (from tensorflow.python.framework.ops) is deprecated and will be removed in a future version.\n",
      "Instructions for updating:\n",
      "Colocations handled automatically by placer.\n"
     ]
    }
   ],
   "source": [
    "lstm_seq = Sequential()\n",
    "lstm_seq.add(LSTM(300, input_shape = (None, 136192), return_sequences=True))\n",
    "lstm_seq.add(LSTM(300, input_shape = (None, 136192), return_sequences=True))\n",
    "lstm_seq.add(LSTM(300, input_shape = (None, 136192), return_sequences=True))\n",
    "lstm_seq.add(Dense(136192))"
   ]
  },
  {
   "cell_type": "code",
   "execution_count": 24,
   "metadata": {},
   "outputs": [],
   "source": [
    "lstm_seq.compile(loss='mean_squared_error', optimizer='adam')"
   ]
  },
  {
   "cell_type": "code",
   "execution_count": 25,
   "metadata": {},
   "outputs": [
    {
     "name": "stdout",
     "output_type": "stream",
     "text": [
      "WARNING:tensorflow:From //anaconda3/envs/learn-climate/lib/python3.6/site-packages/tensorflow/python/ops/math_ops.py:3066: to_int32 (from tensorflow.python.ops.math_ops) is deprecated and will be removed in a future version.\n",
      "Instructions for updating:\n",
      "Use tf.cast instead.\n",
      "Epoch 1/1\n",
      "1/1 [==============================] - 866s 866s/step - loss: 0.0187\n"
     ]
    },
    {
     "data": {
      "text/plain": [
       "<keras.callbacks.callbacks.History at 0x12b1036d8>"
      ]
     },
     "execution_count": 25,
     "metadata": {},
     "output_type": "execute_result"
    }
   ],
   "source": [
    "lstm_seq.fit(x_train, y_train, use_multiprocessing=True)"
   ]
  },
  {
   "cell_type": "code",
   "execution_count": 26,
   "metadata": {},
   "outputs": [
    {
     "data": {
      "text/plain": [
       "(1, 365, 136192)"
      ]
     },
     "execution_count": 26,
     "metadata": {},
     "output_type": "execute_result"
    }
   ],
   "source": [
    "x_train.shape"
   ]
  },
  {
   "cell_type": "code",
   "execution_count": 27,
   "metadata": {},
   "outputs": [],
   "source": [
    "test_frames = lstm_images[:,370:400,:]"
   ]
  },
  {
   "cell_type": "code",
   "execution_count": 28,
   "metadata": {},
   "outputs": [],
   "source": [
    "test_preds = lstm_seq.predict(test_frames)"
   ]
  },
  {
   "cell_type": "code",
   "execution_count": 29,
   "metadata": {},
   "outputs": [],
   "source": [
    "test_frame = test_frames[:,-1,:]\n",
    "test_pred = test_preds[:,-1,:]"
   ]
  },
  {
   "cell_type": "code",
   "execution_count": 30,
   "metadata": {},
   "outputs": [
    {
     "data": {
      "text/plain": [
       "(1, 136192)"
      ]
     },
     "execution_count": 30,
     "metadata": {},
     "output_type": "execute_result"
    }
   ],
   "source": [
    "test_frame.shape"
   ]
  },
  {
   "cell_type": "code",
   "execution_count": 31,
   "metadata": {},
   "outputs": [],
   "source": [
    "test_frame = test_frame.reshape(1, 448, 304)\n",
    "test_pred = test_pred.reshape(1, 448, 304)"
   ]
  },
  {
   "cell_type": "code",
   "execution_count": 32,
   "metadata": {},
   "outputs": [
    {
     "data": {
      "image/png": "[encoded data removed]",
      "text/plain": [
       "<Figure size 432x288 with 1 Axes>"
      ]
     },
     "execution_count": 32,
     "metadata": {},
     "output_type": "execute_result"
    },
    {
     "data": {
      "image/png": "[encoded data removed]",
      "text/plain": [
       "<Figure size 432x288 with 1 Axes>"
      ]
     },
     "metadata": {
      "needs_background": "light"
     },
     "output_type": "display_data"
    }
   ],
   "source": [
    "trim_processor.make_colored_prediction_image(test_pred, image_type='concentration')"
   ]
  },
  {
   "cell_type": "code",
   "execution_count": null,
   "metadata": {},
   "outputs": [],
   "source": []
  }
 ],
 "metadata": {
  "kernelspec": {
   "display_name": "Python 3",
   "language": "python",
   "name": "python3"
  },
  "language_info": {
   "codemirror_mode": {
    "name": "ipython",
    "version": 3
   },
   "file_extension": ".py",
   "mimetype": "text/x-python",
   "name": "python",
   "nbconvert_exporter": "python",
   "pygments_lexer": "ipython3",
   "version": "3.6.7"
  }
 },
 "nbformat": 4,
 "nbformat_minor": 4
}
