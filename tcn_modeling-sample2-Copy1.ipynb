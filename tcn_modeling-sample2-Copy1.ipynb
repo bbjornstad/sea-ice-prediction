{
 "cells": [
  {
   "cell_type": "code",
   "execution_count": 1,
   "metadata": {},
   "outputs": [],
   "source": [
    "%load_ext autoreload\n",
    "%autoreload 2\n",
    "import warnings\n",
    "warnings.filterwarnings('ignore')"
   ]
  },
  {
   "cell_type": "code",
   "execution_count": 2,
   "metadata": {},
   "outputs": [
    {
     "name": "stderr",
     "output_type": "stream",
     "text": [
      "Using TensorFlow backend.\n"
     ]
    }
   ],
   "source": [
    "import pandas as pd\n",
    "import numpy as np\n",
    "from geotiff_processor import GeotiffProcessor\n",
    "from ice_modeler import IceModeler"
   ]
  },
  {
   "cell_type": "code",
   "execution_count": 3,
   "metadata": {},
   "outputs": [],
   "source": [
    "geotiff_index = pd.read_csv('daily_northern_geotiff_index.csv')\n",
    "geotiff_index.date = pd.to_datetime(geotiff_index.date)\n",
    "geotiff_index = geotiff_index.set_index('date')"
   ]
  },
  {
   "cell_type": "code",
   "execution_count": 4,
   "metadata": {},
   "outputs": [],
   "source": [
    "geotiff_concentration = geotiff_index.loc[geotiff_index.image_type == 'concentration']"
   ]
  },
  {
   "cell_type": "code",
   "execution_count": 5,
   "metadata": {},
   "outputs": [],
   "source": [
    "conc_index = geotiff_concentration.loc['1980-01-01':'2018-12-31',:]"
   ]
  },
  {
   "cell_type": "code",
   "execution_count": 6,
   "metadata": {},
   "outputs": [],
   "source": [
    "conc_processor = GeotiffProcessor('raw_images/', image_index=conc_index)"
   ]
  },
  {
   "cell_type": "code",
   "execution_count": 8,
   "metadata": {},
   "outputs": [
    {
     "data": {
      "text/html": [
       "<div>\n",
       "<style scoped>\n",
       "    .dataframe tbody tr th:only-of-type {\n",
       "        vertical-align: middle;\n",
       "    }\n",
       "\n",
       "    .dataframe tbody tr th {\n",
       "        vertical-align: top;\n",
       "    }\n",
       "\n",
       "    .dataframe thead th {\n",
       "        text-align: right;\n",
       "    }\n",
       "</style>\n",
       "<table border=\"1\" class=\"dataframe\">\n",
       "  <thead>\n",
       "    <tr style=\"text-align: right;\">\n",
       "      <th></th>\n",
       "      <th>Unnamed: 0</th>\n",
       "      <th>file_name</th>\n",
       "      <th>hemisphere</th>\n",
       "      <th>image_type</th>\n",
       "    </tr>\n",
       "    <tr>\n",
       "      <th>date</th>\n",
       "      <th></th>\n",
       "      <th></th>\n",
       "      <th></th>\n",
       "      <th></th>\n",
       "    </tr>\n",
       "  </thead>\n",
       "  <tbody>\n",
       "    <tr>\n",
       "      <th>1980-01-01</th>\n",
       "      <td>N_19800101_concentration_v3.0</td>\n",
       "      <td>daily/geotiff/1980/N_19800101_concentration_v3...</td>\n",
       "      <td>north</td>\n",
       "      <td>concentration</td>\n",
       "    </tr>\n",
       "    <tr>\n",
       "      <th>1980-01-02</th>\n",
       "      <td>N_19800103_concentration_v3.0</td>\n",
       "      <td>daily/geotiff/1980/N_19800103_concentration_v3...</td>\n",
       "      <td>north</td>\n",
       "      <td>concentration</td>\n",
       "    </tr>\n",
       "    <tr>\n",
       "      <th>1980-01-03</th>\n",
       "      <td>N_19800103_concentration_v3.0</td>\n",
       "      <td>daily/geotiff/1980/N_19800103_concentration_v3...</td>\n",
       "      <td>north</td>\n",
       "      <td>concentration</td>\n",
       "    </tr>\n",
       "    <tr>\n",
       "      <th>1980-01-04</th>\n",
       "      <td>N_19800103_concentration_v3.0</td>\n",
       "      <td>daily/geotiff/1980/N_19800103_concentration_v3...</td>\n",
       "      <td>north</td>\n",
       "      <td>concentration</td>\n",
       "    </tr>\n",
       "    <tr>\n",
       "      <th>1980-01-05</th>\n",
       "      <td>N_19800107_concentration_v3.0</td>\n",
       "      <td>daily/geotiff/1980/N_19800107_concentration_v3...</td>\n",
       "      <td>north</td>\n",
       "      <td>concentration</td>\n",
       "    </tr>\n",
       "    <tr>\n",
       "      <th>...</th>\n",
       "      <td>...</td>\n",
       "      <td>...</td>\n",
       "      <td>...</td>\n",
       "      <td>...</td>\n",
       "    </tr>\n",
       "    <tr>\n",
       "      <th>2018-12-27</th>\n",
       "      <td>N_20181227_concentration_v3.0</td>\n",
       "      <td>daily/geotiff/2018/N_20181227_concentration_v3...</td>\n",
       "      <td>north</td>\n",
       "      <td>concentration</td>\n",
       "    </tr>\n",
       "    <tr>\n",
       "      <th>2018-12-28</th>\n",
       "      <td>N_20181228_concentration_v3.0</td>\n",
       "      <td>daily/geotiff/2018/N_20181228_concentration_v3...</td>\n",
       "      <td>north</td>\n",
       "      <td>concentration</td>\n",
       "    </tr>\n",
       "    <tr>\n",
       "      <th>2018-12-29</th>\n",
       "      <td>N_20181229_concentration_v3.0</td>\n",
       "      <td>daily/geotiff/2018/N_20181229_concentration_v3...</td>\n",
       "      <td>north</td>\n",
       "      <td>concentration</td>\n",
       "    </tr>\n",
       "    <tr>\n",
       "      <th>2018-12-30</th>\n",
       "      <td>N_20181230_concentration_v3.0</td>\n",
       "      <td>daily/geotiff/2018/N_20181230_concentration_v3...</td>\n",
       "      <td>north</td>\n",
       "      <td>concentration</td>\n",
       "    </tr>\n",
       "    <tr>\n",
       "      <th>2018-12-31</th>\n",
       "      <td>N_20181231_concentration_v3.0</td>\n",
       "      <td>daily/geotiff/2018/N_20181231_concentration_v3...</td>\n",
       "      <td>north</td>\n",
       "      <td>concentration</td>\n",
       "    </tr>\n",
       "  </tbody>\n",
       "</table>\n",
       "<p>14245 rows × 4 columns</p>\n",
       "</div>"
      ],
      "text/plain": [
       "                               Unnamed: 0  \\\n",
       "date                                        \n",
       "1980-01-01  N_19800101_concentration_v3.0   \n",
       "1980-01-02  N_19800103_concentration_v3.0   \n",
       "1980-01-03  N_19800103_concentration_v3.0   \n",
       "1980-01-04  N_19800103_concentration_v3.0   \n",
       "1980-01-05  N_19800107_concentration_v3.0   \n",
       "...                                   ...   \n",
       "2018-12-27  N_20181227_concentration_v3.0   \n",
       "2018-12-28  N_20181228_concentration_v3.0   \n",
       "2018-12-29  N_20181229_concentration_v3.0   \n",
       "2018-12-30  N_20181230_concentration_v3.0   \n",
       "2018-12-31  N_20181231_concentration_v3.0   \n",
       "\n",
       "                                                    file_name hemisphere  \\\n",
       "date                                                                       \n",
       "1980-01-01  daily/geotiff/1980/N_19800101_concentration_v3...      north   \n",
       "1980-01-02  daily/geotiff/1980/N_19800103_concentration_v3...      north   \n",
       "1980-01-03  daily/geotiff/1980/N_19800103_concentration_v3...      north   \n",
       "1980-01-04  daily/geotiff/1980/N_19800103_concentration_v3...      north   \n",
       "1980-01-05  daily/geotiff/1980/N_19800107_concentration_v3...      north   \n",
       "...                                                       ...        ...   \n",
       "2018-12-27  daily/geotiff/2018/N_20181227_concentration_v3...      north   \n",
       "2018-12-28  daily/geotiff/2018/N_20181228_concentration_v3...      north   \n",
       "2018-12-29  daily/geotiff/2018/N_20181229_concentration_v3...      north   \n",
       "2018-12-30  daily/geotiff/2018/N_20181230_concentration_v3...      north   \n",
       "2018-12-31  daily/geotiff/2018/N_20181231_concentration_v3...      north   \n",
       "\n",
       "               image_type  \n",
       "date                       \n",
       "1980-01-01  concentration  \n",
       "1980-01-02  concentration  \n",
       "1980-01-03  concentration  \n",
       "1980-01-04  concentration  \n",
       "1980-01-05  concentration  \n",
       "...                   ...  \n",
       "2018-12-27  concentration  \n",
       "2018-12-28  concentration  \n",
       "2018-12-29  concentration  \n",
       "2018-12-30  concentration  \n",
       "2018-12-31  concentration  \n",
       "\n",
       "[14245 rows x 4 columns]"
      ]
     },
     "execution_count": 8,
     "metadata": {},
     "output_type": "execute_result"
    }
   ],
   "source": [
    "conc_index = conc_processor.impute_missing_index_dates(set_this_index = True)\n",
    "conc_index"
   ]
  },
  {
   "cell_type": "code",
   "execution_count": 10,
   "metadata": {},
   "outputs": [],
   "source": [
    "conc_processor.load_default_colormaps(\n",
    "    extent='default_extent_colormap.pkl',\n",
    "    concentration='default_concentration_colormap.pkl')\n",
    "# conc_last_ten = conc_processor.impute_missing_index_dates(set_this_index=True)"
   ]
  },
  {
   "cell_type": "code",
   "execution_count": 11,
   "metadata": {},
   "outputs": [],
   "source": [
    "ice_modeler = IceModeler()"
   ]
  },
  {
   "cell_type": "code",
   "execution_count": 12,
   "metadata": {},
   "outputs": [],
   "source": [
    "conc_images, years = conc_processor.process_images_channels_first_yearly_sample()"
   ]
  },
  {
   "cell_type": "code",
   "execution_count": 13,
   "metadata": {},
   "outputs": [],
   "source": [
    "norm_images = ice_modeler.scale_to_normal(conc_images, image_type='concentration')"
   ]
  },
  {
   "cell_type": "code",
   "execution_count": 14,
   "metadata": {},
   "outputs": [],
   "source": [
    "x_train = norm_images[:-6]\n",
    "y_train = norm_images[1:-5]\n",
    "x_test = norm_images[-6:-1]\n",
    "y_test = norm_images[-5:]\n",
    "pred_year = norm_images[-1]"
   ]
  },
  {
   "cell_type": "code",
   "execution_count": 17,
   "metadata": {},
   "outputs": [
    {
     "data": {
      "text/plain": [
       "(33, 365, 1, 448, 304)"
      ]
     },
     "execution_count": 17,
     "metadata": {},
     "output_type": "execute_result"
    }
   ],
   "source": [
    "x_train.shape"
   ]
  },
  {
   "cell_type": "code",
   "execution_count": 18,
   "metadata": {},
   "outputs": [
    {
     "data": {
      "text/plain": [
       "(33, 365, 1, 448, 304)"
      ]
     },
     "execution_count": 18,
     "metadata": {},
     "output_type": "execute_result"
    }
   ],
   "source": [
    "y_train.shape"
   ]
  },
  {
   "cell_type": "code",
   "execution_count": 20,
   "metadata": {},
   "outputs": [],
   "source": [
    "ice_modeler.reset_model()\n",
    "ice_modeler.add_n_td_conv2d(1, filters=4, kernel_size=(4,4), padding='same')\n",
    "#ice_modeler.add_td_avg_pool(pool_size=(4,4), strides=2, padding='valid')\n",
    "ice_modeler.add_td_flatten()\n",
    "ice_modeler.add_n_tcn(1, nb_filters=4, kernel_size=7, nb_stacks=15)\n",
    "ice_modeler.add_n_td_dense(1, ice_modeler.image_size)\n",
    "ice_modeler.add_td_im_reshape()"
   ]
  },
  {
   "cell_type": "code",
   "execution_count": 21,
   "metadata": {},
   "outputs": [
    {
     "name": "stdout",
     "output_type": "stream",
     "text": [
      "WARNING:tensorflow:From //anaconda3/envs/learn-climate/lib/python3.6/site-packages/tensorflow/python/ops/resource_variable_ops.py:435: colocate_with (from tensorflow.python.framework.ops) is deprecated and will be removed in a future version.\n",
      "Instructions for updating:\n",
      "Colocations handled automatically by placer.\n"
     ]
    }
   ],
   "source": [
    "ice_modeler.compile(loss='mean_squared_error', optimizer='adam')"
   ]
  },
  {
   "cell_type": "code",
   "execution_count": 22,
   "metadata": {},
   "outputs": [
    {
     "name": "stdout",
     "output_type": "stream",
     "text": [
      "WARNING:tensorflow:From //anaconda3/envs/learn-climate/lib/python3.6/site-packages/tensorflow/python/ops/math_ops.py:3066: to_int32 (from tensorflow.python.ops.math_ops) is deprecated and will be removed in a future version.\n",
      "Instructions for updating:\n",
      "Use tf.cast instead.\n",
      "Epoch 1/16\n",
      "33/33 [==============================] - 1450s 44s/step - loss: 0.0631\n",
      "Epoch 2/16\n",
      "33/33 [==============================] - 1499s 45s/step - loss: 0.0027\n",
      "Epoch 3/16\n",
      "33/33 [==============================] - 1531s 46s/step - loss: 0.0015\n",
      "Epoch 4/16\n",
      "33/33 [==============================] - 1547s 47s/step - loss: 0.0012\n",
      "Epoch 5/16\n",
      "33/33 [==============================] - 1517s 46s/step - loss: 0.0011\n",
      "Epoch 6/16\n",
      "33/33 [==============================] - 1498s 45s/step - loss: 0.0012\n",
      "Epoch 7/16\n",
      "33/33 [==============================] - 1463s 44s/step - loss: 0.0012\n",
      "Epoch 8/16\n",
      "33/33 [==============================] - 1472s 45s/step - loss: 0.0010\n",
      "Epoch 9/16\n",
      "33/33 [==============================] - 1465s 44s/step - loss: 0.0011\n",
      "Epoch 10/16\n",
      "33/33 [==============================] - 1459s 44s/step - loss: 0.0012\n",
      "Epoch 11/16\n",
      "33/33 [==============================] - 1462s 44s/step - loss: 0.0011\n",
      "Epoch 12/16\n",
      "33/33 [==============================] - 1464s 44s/step - loss: 0.0011\n",
      "Epoch 13/16\n",
      "33/33 [==============================] - 1468s 44s/step - loss: 0.0011\n",
      "Epoch 14/16\n",
      "33/33 [==============================] - 1393s 42s/step - loss: 0.0011\n",
      "Epoch 15/16\n",
      " 4/33 [==>...........................] - ETA: 20:20 - loss: 0.0012"
     ]
    },
    {
     "ename": "KeyboardInterrupt",
     "evalue": "",
     "output_type": "error",
     "traceback": [
      "\u001b[0;31m---------------------------------------------------------------------------\u001b[0m",
      "\u001b[0;31mKeyboardInterrupt\u001b[0m                         Traceback (most recent call last)",
      "\u001b[0;32m<ipython-input-22-d92fc940396b>\u001b[0m in \u001b[0;36m<module>\u001b[0;34m\u001b[0m\n\u001b[0;32m----> 1\u001b[0;31m \u001b[0mice_modeler\u001b[0m\u001b[0;34m.\u001b[0m\u001b[0mfit\u001b[0m\u001b[0;34m(\u001b[0m\u001b[0mx_train\u001b[0m\u001b[0;34m,\u001b[0m \u001b[0my_train\u001b[0m\u001b[0;34m,\u001b[0m \u001b[0mepochs\u001b[0m\u001b[0;34m=\u001b[0m\u001b[0;36m16\u001b[0m\u001b[0;34m)\u001b[0m\u001b[0;34m\u001b[0m\u001b[0;34m\u001b[0m\u001b[0m\n\u001b[0m",
      "\u001b[0;32m~/Documents/sea-ice-prediction/ice_modeler.py\u001b[0m in \u001b[0;36mfit\u001b[0;34m(self, x_train, y_train, epochs, batch_size)\u001b[0m\n\u001b[1;32m    207\u001b[0m             \u001b[0my_train\u001b[0m\u001b[0;34m,\u001b[0m\u001b[0;34m\u001b[0m\u001b[0;34m\u001b[0m\u001b[0m\n\u001b[1;32m    208\u001b[0m             \u001b[0mepochs\u001b[0m\u001b[0;34m=\u001b[0m\u001b[0mepochs\u001b[0m\u001b[0;34m,\u001b[0m\u001b[0;34m\u001b[0m\u001b[0;34m\u001b[0m\u001b[0m\n\u001b[0;32m--> 209\u001b[0;31m             batch_size=batch_size)\n\u001b[0m\u001b[1;32m    210\u001b[0m \u001b[0;34m\u001b[0m\u001b[0m\n\u001b[1;32m    211\u001b[0m     \u001b[0;32mdef\u001b[0m \u001b[0mpredict\u001b[0m\u001b[0;34m(\u001b[0m\u001b[0mself\u001b[0m\u001b[0;34m,\u001b[0m \u001b[0mtest_frames\u001b[0m\u001b[0;34m)\u001b[0m\u001b[0;34m:\u001b[0m\u001b[0;34m\u001b[0m\u001b[0;34m\u001b[0m\u001b[0m\n",
      "\u001b[0;32m//anaconda3/envs/learn-climate/lib/python3.6/site-packages/keras/engine/training.py\u001b[0m in \u001b[0;36mfit\u001b[0;34m(self, x, y, batch_size, epochs, verbose, callbacks, validation_split, validation_data, shuffle, class_weight, sample_weight, initial_epoch, steps_per_epoch, validation_steps, validation_freq, max_queue_size, workers, use_multiprocessing, **kwargs)\u001b[0m\n\u001b[1;32m   1237\u001b[0m                                         \u001b[0msteps_per_epoch\u001b[0m\u001b[0;34m=\u001b[0m\u001b[0msteps_per_epoch\u001b[0m\u001b[0;34m,\u001b[0m\u001b[0;34m\u001b[0m\u001b[0;34m\u001b[0m\u001b[0m\n\u001b[1;32m   1238\u001b[0m                                         \u001b[0mvalidation_steps\u001b[0m\u001b[0;34m=\u001b[0m\u001b[0mvalidation_steps\u001b[0m\u001b[0;34m,\u001b[0m\u001b[0;34m\u001b[0m\u001b[0;34m\u001b[0m\u001b[0m\n\u001b[0;32m-> 1239\u001b[0;31m                                         validation_freq=validation_freq)\n\u001b[0m\u001b[1;32m   1240\u001b[0m \u001b[0;34m\u001b[0m\u001b[0m\n\u001b[1;32m   1241\u001b[0m     def evaluate(self,\n",
      "\u001b[0;32m//anaconda3/envs/learn-climate/lib/python3.6/site-packages/keras/engine/training_arrays.py\u001b[0m in \u001b[0;36mfit_loop\u001b[0;34m(model, fit_function, fit_inputs, out_labels, batch_size, epochs, verbose, callbacks, val_function, val_inputs, shuffle, initial_epoch, steps_per_epoch, validation_steps, validation_freq)\u001b[0m\n\u001b[1;32m    194\u001b[0m                     \u001b[0mins_batch\u001b[0m\u001b[0;34m[\u001b[0m\u001b[0mi\u001b[0m\u001b[0;34m]\u001b[0m \u001b[0;34m=\u001b[0m \u001b[0mins_batch\u001b[0m\u001b[0;34m[\u001b[0m\u001b[0mi\u001b[0m\u001b[0;34m]\u001b[0m\u001b[0;34m.\u001b[0m\u001b[0mtoarray\u001b[0m\u001b[0;34m(\u001b[0m\u001b[0;34m)\u001b[0m\u001b[0;34m\u001b[0m\u001b[0;34m\u001b[0m\u001b[0m\n\u001b[1;32m    195\u001b[0m \u001b[0;34m\u001b[0m\u001b[0m\n\u001b[0;32m--> 196\u001b[0;31m                 \u001b[0mouts\u001b[0m \u001b[0;34m=\u001b[0m \u001b[0mfit_function\u001b[0m\u001b[0;34m(\u001b[0m\u001b[0mins_batch\u001b[0m\u001b[0;34m)\u001b[0m\u001b[0;34m\u001b[0m\u001b[0;34m\u001b[0m\u001b[0m\n\u001b[0m\u001b[1;32m    197\u001b[0m                 \u001b[0mouts\u001b[0m \u001b[0;34m=\u001b[0m \u001b[0mto_list\u001b[0m\u001b[0;34m(\u001b[0m\u001b[0mouts\u001b[0m\u001b[0;34m)\u001b[0m\u001b[0;34m\u001b[0m\u001b[0;34m\u001b[0m\u001b[0m\n\u001b[1;32m    198\u001b[0m                 \u001b[0;32mfor\u001b[0m \u001b[0ml\u001b[0m\u001b[0;34m,\u001b[0m \u001b[0mo\u001b[0m \u001b[0;32min\u001b[0m \u001b[0mzip\u001b[0m\u001b[0;34m(\u001b[0m\u001b[0mout_labels\u001b[0m\u001b[0;34m,\u001b[0m \u001b[0mouts\u001b[0m\u001b[0;34m)\u001b[0m\u001b[0;34m:\u001b[0m\u001b[0;34m\u001b[0m\u001b[0;34m\u001b[0m\u001b[0m\n",
      "\u001b[0;32m//anaconda3/envs/learn-climate/lib/python3.6/site-packages/tensorflow/python/keras/backend.py\u001b[0m in \u001b[0;36m__call__\u001b[0;34m(self, inputs)\u001b[0m\n\u001b[1;32m   3074\u001b[0m \u001b[0;34m\u001b[0m\u001b[0m\n\u001b[1;32m   3075\u001b[0m     fetched = self._callable_fn(*array_vals,\n\u001b[0;32m-> 3076\u001b[0;31m                                 run_metadata=self.run_metadata)\n\u001b[0m\u001b[1;32m   3077\u001b[0m     \u001b[0mself\u001b[0m\u001b[0;34m.\u001b[0m\u001b[0m_call_fetch_callbacks\u001b[0m\u001b[0;34m(\u001b[0m\u001b[0mfetched\u001b[0m\u001b[0;34m[\u001b[0m\u001b[0;34m-\u001b[0m\u001b[0mlen\u001b[0m\u001b[0;34m(\u001b[0m\u001b[0mself\u001b[0m\u001b[0;34m.\u001b[0m\u001b[0m_fetches\u001b[0m\u001b[0;34m)\u001b[0m\u001b[0;34m:\u001b[0m\u001b[0;34m]\u001b[0m\u001b[0;34m)\u001b[0m\u001b[0;34m\u001b[0m\u001b[0;34m\u001b[0m\u001b[0m\n\u001b[1;32m   3078\u001b[0m     return nest.pack_sequence_as(self._outputs_structure,\n",
      "\u001b[0;32m//anaconda3/envs/learn-climate/lib/python3.6/site-packages/tensorflow/python/client/session.py\u001b[0m in \u001b[0;36m__call__\u001b[0;34m(self, *args, **kwargs)\u001b[0m\n\u001b[1;32m   1437\u001b[0m           ret = tf_session.TF_SessionRunCallable(\n\u001b[1;32m   1438\u001b[0m               \u001b[0mself\u001b[0m\u001b[0;34m.\u001b[0m\u001b[0m_session\u001b[0m\u001b[0;34m.\u001b[0m\u001b[0m_session\u001b[0m\u001b[0;34m,\u001b[0m \u001b[0mself\u001b[0m\u001b[0;34m.\u001b[0m\u001b[0m_handle\u001b[0m\u001b[0;34m,\u001b[0m \u001b[0margs\u001b[0m\u001b[0;34m,\u001b[0m \u001b[0mstatus\u001b[0m\u001b[0;34m,\u001b[0m\u001b[0;34m\u001b[0m\u001b[0;34m\u001b[0m\u001b[0m\n\u001b[0;32m-> 1439\u001b[0;31m               run_metadata_ptr)\n\u001b[0m\u001b[1;32m   1440\u001b[0m         \u001b[0;32mif\u001b[0m \u001b[0mrun_metadata\u001b[0m\u001b[0;34m:\u001b[0m\u001b[0;34m\u001b[0m\u001b[0;34m\u001b[0m\u001b[0m\n\u001b[1;32m   1441\u001b[0m           \u001b[0mproto_data\u001b[0m \u001b[0;34m=\u001b[0m \u001b[0mtf_session\u001b[0m\u001b[0;34m.\u001b[0m\u001b[0mTF_GetBuffer\u001b[0m\u001b[0;34m(\u001b[0m\u001b[0mrun_metadata_ptr\u001b[0m\u001b[0;34m)\u001b[0m\u001b[0;34m\u001b[0m\u001b[0;34m\u001b[0m\u001b[0m\n",
      "\u001b[0;31mKeyboardInterrupt\u001b[0m: "
     ]
    }
   ],
   "source": [
    "ice_modeler.fit(x_train, y_train, epochs=16)"
   ]
  },
  {
   "cell_type": "code",
   "execution_count": null,
   "metadata": {},
   "outputs": [],
   "source": [
    "predictions = ice_modeler.predict(x_test)"
   ]
  },
  {
   "cell_type": "code",
   "execution_count": null,
   "metadata": {},
   "outputs": [],
   "source": [
    "predictions.shape"
   ]
  },
  {
   "cell_type": "code",
   "execution_count": null,
   "metadata": {},
   "outputs": [],
   "source": [
    "predictions_images = ice_modeler.scale_from_normal(predictions, image_type='concentration')"
   ]
  },
  {
   "cell_type": "code",
   "execution_count": null,
   "metadata": {},
   "outputs": [],
   "source": [
    "for i in range(10):\n",
    "    frame = predictions_images[1, i, :, :]\n",
    "    actual = ice_modeler.scale_from_normal(y_test[0, i, :, :], image_type='concentration')\n",
    "    conc_processor.make_colored_prediction_image(frame, image_type='concentration')\n",
    "    conc_processor.make_colored_prediction_image(actual, image_type='concentration')\n"
   ]
  },
  {
   "cell_type": "code",
   "execution_count": null,
   "metadata": {},
   "outputs": [],
   "source": []
  }
 ],
 "metadata": {
  "kernelspec": {
   "display_name": "Python 3",
   "language": "python",
   "name": "python3"
  },
  "language_info": {
   "codemirror_mode": {
    "name": "ipython",
    "version": 3
   },
   "file_extension": ".py",
   "mimetype": "text/x-python",
   "name": "python",
   "nbconvert_exporter": "python",
   "pygments_lexer": "ipython3",
   "version": "3.6.7"
  }
 },
 "nbformat": 4,
 "nbformat_minor": 4
}
